{
 "cells": [
  {
   "cell_type": "code",
   "execution_count": 3,
   "id": "8330d30c",
   "metadata": {},
   "outputs": [
    {
     "ename": "ModuleNotFoundError",
     "evalue": "No module named 'DEint'",
     "output_type": "error",
     "traceback": [
      "\u001b[1;31m---------------------------------------------------------------------------\u001b[0m",
      "\u001b[1;31mModuleNotFoundError\u001b[0m                       Traceback (most recent call last)",
      "\u001b[1;32m<ipython-input-3-fa3049902f8d>\u001b[0m in \u001b[0;36m<module>\u001b[1;34m\u001b[0m\n\u001b[0;32m      1\u001b[0m \u001b[1;32mimport\u001b[0m \u001b[0mnumpy\u001b[0m \u001b[1;32mas\u001b[0m \u001b[0mnp\u001b[0m\u001b[1;33m\u001b[0m\u001b[1;33m\u001b[0m\u001b[0m\n\u001b[0;32m      2\u001b[0m \u001b[1;32mimport\u001b[0m \u001b[0mpandas\u001b[0m \u001b[1;32mas\u001b[0m \u001b[0mpd\u001b[0m\u001b[1;33m\u001b[0m\u001b[1;33m\u001b[0m\u001b[0m\n\u001b[1;32m----> 3\u001b[1;33m \u001b[1;32mfrom\u001b[0m \u001b[0mDEint\u001b[0m \u001b[1;32mimport\u001b[0m \u001b[1;33m*\u001b[0m\u001b[1;33m\u001b[0m\u001b[1;33m\u001b[0m\u001b[0m\n\u001b[0m",
      "\u001b[1;31mModuleNotFoundError\u001b[0m: No module named 'DEint'"
     ]
    }
   ],
   "source": [
    "import numpy as np\n",
    "import pandas as pd\n",
    "from DEint import *"
   ]
  },
  {
   "cell_type": "code",
   "execution_count": null,
   "id": "89c8dec9",
   "metadata": {},
   "outputs": [],
   "source": [
    "raw_eqs = pd.read_csv('RMHD_CHM_DE.csv', header=None)\n",
    "pd.set_option('display.max_colwidth', None)\n",
    "raw_eqs.columns = ['eqn']\n",
    "# raw_eqs"
   ]
  },
  {
   "cell_type": "code",
   "execution_count": null,
   "id": "e325f9dc",
   "metadata": {},
   "outputs": [],
   "source": [
    "# Strip repetetive ' == 0' from the equations\n",
    "\n",
    "raw_eqs.eqn = raw_eqs.eqn.apply(lambda eq: eq.strip(' == 0'))\n",
    "raw_eqs"
   ]
  },
  {
   "cell_type": "code",
   "execution_count": null,
   "id": "3ee3200c",
   "metadata": {},
   "outputs": [],
   "source": [
    "# Separating the terms and signs \n",
    "\n",
    "raw_eqs['Signs'] = raw_eqs.eqn.apply(de.get_signs)\n",
    "raw_eqs['Terms'] = raw_eqs.eqn.apply(de.get_terms)"
   ]
  }
 ],
 "metadata": {
  "kernelspec": {
   "display_name": "Python 3",
   "language": "python",
   "name": "python3"
  },
  "language_info": {
   "codemirror_mode": {
    "name": "ipython",
    "version": 3
   },
   "file_extension": ".py",
   "mimetype": "text/x-python",
   "name": "python",
   "nbconvert_exporter": "python",
   "pygments_lexer": "ipython3",
   "version": "3.8.8"
  }
 },
 "nbformat": 4,
 "nbformat_minor": 5
}
