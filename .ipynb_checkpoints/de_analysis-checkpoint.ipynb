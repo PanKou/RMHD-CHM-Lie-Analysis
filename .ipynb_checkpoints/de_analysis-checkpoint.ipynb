{
 "cells": [
  {
   "cell_type": "code",
   "execution_count": 1,
   "id": "52e954b6",
   "metadata": {},
   "outputs": [],
   "source": [
    "# This is to try to analyze the thousands of determining equations\n",
    "\n",
    "# Learning Pandas right now, so I'm going to try to use Pandas\n",
    "\n",
    "import numpy as np\n",
    "import pandas as pd"
   ]
  },
  {
   "cell_type": "code",
   "execution_count": 2,
   "id": "b1853e94",
   "metadata": {},
   "outputs": [],
   "source": [
    "raw_eqs = pd.read_csv('RMHD_CHM_DE.csv', header=None)"
   ]
  },
  {
   "cell_type": "code",
   "execution_count": 3,
   "id": "b5a654e2",
   "metadata": {},
   "outputs": [
    {
     "data": {
      "text/html": [
       "<div>\n",
       "<style scoped>\n",
       "    .dataframe tbody tr th:only-of-type {\n",
       "        vertical-align: middle;\n",
       "    }\n",
       "\n",
       "    .dataframe tbody tr th {\n",
       "        vertical-align: top;\n",
       "    }\n",
       "\n",
       "    .dataframe thead th {\n",
       "        text-align: right;\n",
       "    }\n",
       "</style>\n",
       "<table border=\"1\" class=\"dataframe\">\n",
       "  <thead>\n",
       "    <tr style=\"text-align: right;\">\n",
       "      <th></th>\n",
       "      <th>0</th>\n",
       "    </tr>\n",
       "  </thead>\n",
       "  <tbody>\n",
       "    <tr>\n",
       "      <th>0</th>\n",
       "      <td>-Derivative[0, 0, 0, 0, 0, 0, 0, 1][eta1][z1, ...</td>\n",
       "    </tr>\n",
       "    <tr>\n",
       "      <th>1</th>\n",
       "      <td>Derivative[0, 0, 0, 0, 0, 0, 0, 1][eta1][z1, z...</td>\n",
       "    </tr>\n",
       "    <tr>\n",
       "      <th>2</th>\n",
       "      <td>-Derivative[0, 0, 0, 0, 0, 0, 0, 1][eta2][z1, ...</td>\n",
       "    </tr>\n",
       "    <tr>\n",
       "      <th>3</th>\n",
       "      <td>Derivative[0, 0, 0, 0, 0, 0, 0, 1][eta2][z1, z...</td>\n",
       "    </tr>\n",
       "    <tr>\n",
       "      <th>4</th>\n",
       "      <td>-3*Derivative[0, 0, 0, 0, 0, 0, 0, 1][xse1][z1...</td>\n",
       "    </tr>\n",
       "    <tr>\n",
       "      <th>...</th>\n",
       "      <td>...</td>\n",
       "    </tr>\n",
       "    <tr>\n",
       "      <th>3850</th>\n",
       "      <td>2*Derivative[0, 1, 0, 0, 0, 0, 1, 1][eta2][z1,...</td>\n",
       "    </tr>\n",
       "    <tr>\n",
       "      <th>3851</th>\n",
       "      <td>2*Derivative[0, 1, 0, 0, 0, 0, 1, 1][eta2][z1,...</td>\n",
       "    </tr>\n",
       "    <tr>\n",
       "      <th>3852</th>\n",
       "      <td>-2*Derivative[0, 0, 1, 0, 0, 0, 1, 1][xse1][z1...</td>\n",
       "    </tr>\n",
       "    <tr>\n",
       "      <th>3853</th>\n",
       "      <td>-3*Derivative[0, 0, 1, 0, 0, 0, 1, 0][xse2][z1...</td>\n",
       "    </tr>\n",
       "    <tr>\n",
       "      <th>3854</th>\n",
       "      <td>-Derivative[0, 0, 1, 0, 0, 0, 1, 0][xse2][z1, ...</td>\n",
       "    </tr>\n",
       "  </tbody>\n",
       "</table>\n",
       "<p>3855 rows × 1 columns</p>\n",
       "</div>"
      ],
      "text/plain": [
       "                                                      0\n",
       "0     -Derivative[0, 0, 0, 0, 0, 0, 0, 1][eta1][z1, ...\n",
       "1     Derivative[0, 0, 0, 0, 0, 0, 0, 1][eta1][z1, z...\n",
       "2     -Derivative[0, 0, 0, 0, 0, 0, 0, 1][eta2][z1, ...\n",
       "3     Derivative[0, 0, 0, 0, 0, 0, 0, 1][eta2][z1, z...\n",
       "4     -3*Derivative[0, 0, 0, 0, 0, 0, 0, 1][xse1][z1...\n",
       "...                                                 ...\n",
       "3850  2*Derivative[0, 1, 0, 0, 0, 0, 1, 1][eta2][z1,...\n",
       "3851  2*Derivative[0, 1, 0, 0, 0, 0, 1, 1][eta2][z1,...\n",
       "3852  -2*Derivative[0, 0, 1, 0, 0, 0, 1, 1][xse1][z1...\n",
       "3853  -3*Derivative[0, 0, 1, 0, 0, 0, 1, 0][xse2][z1...\n",
       "3854  -Derivative[0, 0, 1, 0, 0, 0, 1, 0][xse2][z1, ...\n",
       "\n",
       "[3855 rows x 1 columns]"
      ]
     },
     "execution_count": 3,
     "metadata": {},
     "output_type": "execute_result"
    }
   ],
   "source": [
    "raw_eqs"
   ]
  },
  {
   "cell_type": "markdown",
   "id": "4b08e290",
   "metadata": {},
   "source": [
    "##### Initial Thoughts\n",
    "\n",
    "Going to need to figure out how to modify dataframes. Need to go through another lesson or so on codecademy.\n",
    "I want to strip ' == 0' and replace 'Derivative' with something else. This should be simple with string methods.\n",
    "I also think I need to figure out a way to analyze the specific derivative. Maybe someway to interpret the 'list of integers' as a list of ints?\n",
    "I could just split it along the commas, the length of it is always constant.\n",
    "\n",
    "I think I can probably split on the +/-s, and also on the * to separate into coefficients.\n",
    "As of now, the data is a little dirty because Excel can't handle Greek characters.\n",
    "I can either do a replacement in the CSV, Python, or just rerun the mathematica nb with other characters.\n",
    "\n",
    "I think the first step is to get them into \"standard forms,\" and then get rid of duplicates. \n",
    "This should reduce the number of equations significantly. "
   ]
  },
  {
   "cell_type": "code",
   "execution_count": 4,
   "id": "76ee5821",
   "metadata": {},
   "outputs": [],
   "source": [
    "# A function that will interpret the string as a list:\n",
    "\n",
    "def intlist(s):\n",
    "    s = s.strip('[')\n",
    "    s = s.strip(']')\n",
    "    l = s.split(', ')\n",
    "    interpreted = []\n",
    "    for n in l:\n",
    "        interpreted.append(int(n))\n",
    "    return interpreted\n",
    "\n",
    "# Now we can interpret the list after the 'Derivative' as a list of integers!\n",
    "\n",
    "# Test:\n",
    "# print(intlist('[1, 0, 1, 3, 2, 1]'))\n",
    "# print(type(intlist('[1, 0, 1, 3, 2, 1]')[0]))\n",
    "\n",
    "# This seems to work great. Cantwell's package always produces strings like this after derivatives."
   ]
  },
  {
   "cell_type": "code",
   "execution_count": 5,
   "id": "069b62f1",
   "metadata": {},
   "outputs": [],
   "source": [
    "# print(raw_eqs.iloc[36])\n",
    "# print(raw_eqs.iloc[251:256])\n",
    "\n",
    "# Somehow Python seems to be able to read the greek characters, so that's good\n",
    "# I am noticing that the first line of the CSV is the first equation, but pandas is interpreting that as a column label.\n",
    "# Not sure how to fix that easily. Might be better to just import the CSV in a different way.\n",
    "# Figured it out! It's just header=None in the .read_csv()"
   ]
  },
  {
   "cell_type": "markdown",
   "id": "75071560",
   "metadata": {},
   "source": [
    "##### More thoughts\n",
    "\n",
    "All of the equations are a linear combination of derivatives of the xses/etas = 0, so it shouldn't be too hard to categorize them.\n",
    "The maximum derivative is 3, and we have 5 independent variables, and 3 dependent variables\n",
    "Except there are a maximum of 3 total derivatives,so that reduces the total variations of derivatives, and all of these derivatives are acting on a xse or an eta.\n",
    "\n",
    "I'm thinking I can probably define a class that can hopefully just interpret an equation string in its initialization and then store it in some standard form, that doesn't care about order. Not sure exactly how to do that yet. Maybe some kind of ndarray?\n",
    "\n",
    "Maybe instead of an object for each, I can use a DataFrame somehow? Each column representing a derivative with respect to xse 1,2,3,4,5 and eta 1,2,3 and then each column has a list that I get from the intlist function I made. And then maybe one of the columns are the coefficients, stored as a list of strings, since we have the greek constants α and η? Maybe one extra column to show if there are any of the constants being multiplied into the coefficients? Not quite sure what to do after that.\n",
    "\n",
    "I would like to try to make this work for any differential equation with any number of independent and dependent variables if possible. I think this is probably doable with DataFrames."
   ]
  },
  {
   "cell_type": "code",
   "execution_count": 6,
   "id": "dd034e9e",
   "metadata": {},
   "outputs": [],
   "source": [
    "# Setting up for one possible solution:\n",
    "\n",
    "class Equation:\n",
    "    def __init__(self, s):\n",
    "        # A whole bunch of functions I need to make\n",
    "        pass\n",
    "    pass"
   ]
  },
  {
   "cell_type": "code",
   "execution_count": null,
   "id": "1d895d8d",
   "metadata": {},
   "outputs": [],
   "source": []
  }
 ],
 "metadata": {
  "kernelspec": {
   "display_name": "Python 3",
   "language": "python",
   "name": "python3"
  },
  "language_info": {
   "codemirror_mode": {
    "name": "ipython",
    "version": 3
   },
   "file_extension": ".py",
   "mimetype": "text/x-python",
   "name": "python",
   "nbconvert_exporter": "python",
   "pygments_lexer": "ipython3",
   "version": "3.8.8"
  }
 },
 "nbformat": 4,
 "nbformat_minor": 5
}
