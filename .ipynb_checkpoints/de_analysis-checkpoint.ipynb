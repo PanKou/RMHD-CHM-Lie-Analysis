{
 "cells": [
  {
   "cell_type": "code",
   "execution_count": 1,
   "metadata": {},
   "outputs": [],
   "source": [
    "import numpy as np\n",
    "import pandas as pd\n",
    "import DEint as de"
   ]
  },
  {
   "cell_type": "code",
   "execution_count": 2,
   "metadata": {},
   "outputs": [],
   "source": [
    "raw_eqs = pd.read_csv('RMHD_CHM_DE.csv', header=None)\n",
    "pd.set_option('display.max_colwidth', None)\n",
    "raw_eqs.columns = ['eqn']"
   ]
  },
  {
   "cell_type": "code",
   "execution_count": 3,
   "metadata": {},
   "outputs": [
    {
     "data": {
      "text/plain": [
       "pandas.core.frame.DataFrame"
      ]
     },
     "execution_count": 3,
     "metadata": {},
     "output_type": "execute_result"
    }
   ],
   "source": [
    "type(raw_eqs)"
   ]
  },
  {
   "cell_type": "code",
   "execution_count": 4,
   "metadata": {},
   "outputs": [
    {
     "name": "stdout",
     "output_type": "stream",
     "text": [
      "['α', 'η']\n"
     ]
    },
    {
     "data": {
      "text/html": [
       "<div>\n",
       "<style scoped>\n",
       "    .dataframe tbody tr th:only-of-type {\n",
       "        vertical-align: middle;\n",
       "    }\n",
       "\n",
       "    .dataframe tbody tr th {\n",
       "        vertical-align: top;\n",
       "    }\n",
       "\n",
       "    .dataframe thead th {\n",
       "        text-align: right;\n",
       "    }\n",
       "</style>\n",
       "<table border=\"1\" class=\"dataframe\">\n",
       "  <thead>\n",
       "    <tr style=\"text-align: right;\">\n",
       "      <th></th>\n",
       "      <th>eqn</th>\n",
       "    </tr>\n",
       "  </thead>\n",
       "  <tbody>\n",
       "    <tr>\n",
       "      <th>0</th>\n",
       "      <td>-Derivative[0, 0, 0, 0, 0, 0, 0, 1][eta1][z1, z2, z3, z4, z5, z6, z7, z8]</td>\n",
       "    </tr>\n",
       "    <tr>\n",
       "      <th>1</th>\n",
       "      <td>Derivative[0, 0, 0, 0, 0, 0, 0, 1][eta1][z1, z2, z3, z4, z5, z6, z7, z8]</td>\n",
       "    </tr>\n",
       "    <tr>\n",
       "      <th>2</th>\n",
       "      <td>-Derivative[0, 0, 0, 0, 0, 0, 0, 1][eta2][z1, z2, z3, z4, z5, z6, z7, z8]</td>\n",
       "    </tr>\n",
       "    <tr>\n",
       "      <th>3</th>\n",
       "      <td>Derivative[0, 0, 0, 0, 0, 0, 0, 1][eta2][z1, z2, z3, z4, z5, z6, z7, z8]</td>\n",
       "    </tr>\n",
       "    <tr>\n",
       "      <th>4</th>\n",
       "      <td>-3*Derivative[0, 0, 0, 0, 0, 0, 0, 1][xse1][z1, z2, z3, z4, z5, z6, z7, z8]</td>\n",
       "    </tr>\n",
       "    <tr>\n",
       "      <th>...</th>\n",
       "      <td>...</td>\n",
       "    </tr>\n",
       "    <tr>\n",
       "      <th>3850</th>\n",
       "      <td>2*Derivative[0, 1, 0, 0, 0, 0, 1, 1][eta2][z1, z2, z3, z4, z5, z6, z7, z8] - 2*α*Derivative[0, 1, 1, 0, 0, 0, 1, 0][xse5][z1, z2, z3, z4, z5, z6, z7, z8] - Derivative[0, 2, 0, 0, 0, 0, 0, 1][xse2][z1, z2, z3, z4, z5, z6, z7, z8] - α*Derivative[1, 2, 0, 0, 0, 0, 0, 0][xse5][z1, z2, z3, z4, z5, z6, z7, z8] - 3*Derivative[2, 0, 0, 0, 0, 0, 0, 1][xse2][z1, z2, z3, z4, z5, z6, z7, z8] - α*Derivative[3, 0, 0, 0, 0, 0, 0, 0][xse5][z1, z2, z3, z4, z5, z6, z7, z8]</td>\n",
       "    </tr>\n",
       "    <tr>\n",
       "      <th>3851</th>\n",
       "      <td>2*Derivative[0, 1, 0, 0, 0, 0, 1, 1][eta2][z1, z2, z3, z4, z5, z6, z7, z8] - 2*α*Derivative[0, 1, 1, 0, 0, 0, 1, 0][xse5][z1, z2, z3, z4, z5, z6, z7, z8] - Derivative[0, 2, 0, 0, 0, 0, 0, 1][xse2][z1, z2, z3, z4, z5, z6, z7, z8] - α*Derivative[1, 2, 0, 0, 0, 0, 0, 0][xse5][z1, z2, z3, z4, z5, z6, z7, z8] - Derivative[2, 0, 0, 0, 0, 0, 0, 1][xse2][z1, z2, z3, z4, z5, z6, z7, z8] - α*Derivative[3, 0, 0, 0, 0, 0, 0, 0][xse5][z1, z2, z3, z4, z5, z6, z7, z8]</td>\n",
       "    </tr>\n",
       "    <tr>\n",
       "      <th>3852</th>\n",
       "      <td>-2*Derivative[0, 0, 1, 0, 0, 0, 1, 1][xse1][z1, z2, z3, z4, z5, z6, z7, z8] - 4*Derivative[0, 1, 0, 0, 0, 0, 1, 1][eta2][z1, z2, z3, z4, z5, z6, z7, z8] + 2*α*Derivative[0, 1, 1, 0, 0, 0, 1, 0][xse5][z1, z2, z3, z4, z5, z6, z7, z8] + 3*Derivative[0, 2, 0, 0, 0, 0, 0, 1][xse2][z1, z2, z3, z4, z5, z6, z7, z8] - 2*Derivative[1, 1, 0, 0, 0, 0, 0, 1][xse1][z1, z2, z3, z4, z5, z6, z7, z8] + α*Derivative[1, 2, 0, 0, 0, 0, 0, 0][xse5][z1, z2, z3, z4, z5, z6, z7, z8] + Derivative[2, 0, 0, 0, 0, 0, 0, 1][xse2][z1, z2, z3, z4, z5, z6, z7, z8] + α*Derivative[3, 0, 0, 0, 0, 0, 0, 0][xse5][z1, z2, z3, z4, z5, z6, z7, z8]</td>\n",
       "    </tr>\n",
       "    <tr>\n",
       "      <th>3853</th>\n",
       "      <td>-3*Derivative[0, 0, 1, 0, 0, 0, 1, 0][xse2][z1, z2, z3, z4, z5, z6, z7, z8] - 2*η*Derivative[0, 1, 1, 0, 0, 0, 1, 0][xse5][z1, z2, z3, z4, z5, z6, z7, z8] + Derivative[1, 0, 0, 0, 0, 0, 1, 0][eta2][z1, z2, z3, z4, z5, z6, z7, z8] - 2*Derivative[1, 1, 0, 0, 0, 0, 0, 0][xse2][z1, z2, z3, z4, z5, z6, z7, z8] - η*Derivative[1, 2, 0, 0, 0, 0, 0, 0][xse5][z1, z2, z3, z4, z5, z6, z7, z8] - η*Derivative[3, 0, 0, 0, 0, 0, 0, 0][xse5][z1, z2, z3, z4, z5, z6, z7, z8]</td>\n",
       "    </tr>\n",
       "    <tr>\n",
       "      <th>3854</th>\n",
       "      <td>-Derivative[0, 0, 1, 0, 0, 0, 1, 0][xse2][z1, z2, z3, z4, z5, z6, z7, z8] - 2*η*Derivative[0, 1, 1, 0, 0, 0, 1, 0][xse5][z1, z2, z3, z4, z5, z6, z7, z8] - Derivative[0, 2, 0, 0, 0, 0, 0, 0][xse1][z1, z2, z3, z4, z5, z6, z7, z8] + 3*Derivative[1, 0, 0, 0, 0, 0, 1, 0][eta2][z1, z2, z3, z4, z5, z6, z7, z8] - η*Derivative[1, 2, 0, 0, 0, 0, 0, 0][xse5][z1, z2, z3, z4, z5, z6, z7, z8] - 3*Derivative[2, 0, 0, 0, 0, 0, 0, 0][xse1][z1, z2, z3, z4, z5, z6, z7, z8] - η*Derivative[3, 0, 0, 0, 0, 0, 0, 0][xse5][z1, z2, z3, z4, z5, z6, z7, z8]</td>\n",
       "    </tr>\n",
       "  </tbody>\n",
       "</table>\n",
       "<p>3855 rows × 1 columns</p>\n",
       "</div>"
      ],
      "text/plain": [
       "                                                                                                                                                                                                                                                                                                                                                                                                                                                                                                                                                                                                                                         eqn\n",
       "0                                                                                                                                                                                                                                                                                                                                                                                                                                                                                                                                                                  -Derivative[0, 0, 0, 0, 0, 0, 0, 1][eta1][z1, z2, z3, z4, z5, z6, z7, z8]\n",
       "1                                                                                                                                                                                                                                                                                                                                                                                                                                                                                                                                                                   Derivative[0, 0, 0, 0, 0, 0, 0, 1][eta1][z1, z2, z3, z4, z5, z6, z7, z8]\n",
       "2                                                                                                                                                                                                                                                                                                                                                                                                                                                                                                                                                                  -Derivative[0, 0, 0, 0, 0, 0, 0, 1][eta2][z1, z2, z3, z4, z5, z6, z7, z8]\n",
       "3                                                                                                                                                                                                                                                                                                                                                                                                                                                                                                                                                                   Derivative[0, 0, 0, 0, 0, 0, 0, 1][eta2][z1, z2, z3, z4, z5, z6, z7, z8]\n",
       "4                                                                                                                                                                                                                                                                                                                                                                                                                                                                                                                                                                -3*Derivative[0, 0, 0, 0, 0, 0, 0, 1][xse1][z1, z2, z3, z4, z5, z6, z7, z8]\n",
       "...                                                                                                                                                                                                                                                                                                                                                                                                                                                                                                                                                                                                                                      ...\n",
       "3850                                                                                                                                                             2*Derivative[0, 1, 0, 0, 0, 0, 1, 1][eta2][z1, z2, z3, z4, z5, z6, z7, z8] - 2*α*Derivative[0, 1, 1, 0, 0, 0, 1, 0][xse5][z1, z2, z3, z4, z5, z6, z7, z8] - Derivative[0, 2, 0, 0, 0, 0, 0, 1][xse2][z1, z2, z3, z4, z5, z6, z7, z8] - α*Derivative[1, 2, 0, 0, 0, 0, 0, 0][xse5][z1, z2, z3, z4, z5, z6, z7, z8] - 3*Derivative[2, 0, 0, 0, 0, 0, 0, 1][xse2][z1, z2, z3, z4, z5, z6, z7, z8] - α*Derivative[3, 0, 0, 0, 0, 0, 0, 0][xse5][z1, z2, z3, z4, z5, z6, z7, z8]\n",
       "3851                                                                                                                                                               2*Derivative[0, 1, 0, 0, 0, 0, 1, 1][eta2][z1, z2, z3, z4, z5, z6, z7, z8] - 2*α*Derivative[0, 1, 1, 0, 0, 0, 1, 0][xse5][z1, z2, z3, z4, z5, z6, z7, z8] - Derivative[0, 2, 0, 0, 0, 0, 0, 1][xse2][z1, z2, z3, z4, z5, z6, z7, z8] - α*Derivative[1, 2, 0, 0, 0, 0, 0, 0][xse5][z1, z2, z3, z4, z5, z6, z7, z8] - Derivative[2, 0, 0, 0, 0, 0, 0, 1][xse2][z1, z2, z3, z4, z5, z6, z7, z8] - α*Derivative[3, 0, 0, 0, 0, 0, 0, 0][xse5][z1, z2, z3, z4, z5, z6, z7, z8]\n",
       "3852  -2*Derivative[0, 0, 1, 0, 0, 0, 1, 1][xse1][z1, z2, z3, z4, z5, z6, z7, z8] - 4*Derivative[0, 1, 0, 0, 0, 0, 1, 1][eta2][z1, z2, z3, z4, z5, z6, z7, z8] + 2*α*Derivative[0, 1, 1, 0, 0, 0, 1, 0][xse5][z1, z2, z3, z4, z5, z6, z7, z8] + 3*Derivative[0, 2, 0, 0, 0, 0, 0, 1][xse2][z1, z2, z3, z4, z5, z6, z7, z8] - 2*Derivative[1, 1, 0, 0, 0, 0, 0, 1][xse1][z1, z2, z3, z4, z5, z6, z7, z8] + α*Derivative[1, 2, 0, 0, 0, 0, 0, 0][xse5][z1, z2, z3, z4, z5, z6, z7, z8] + Derivative[2, 0, 0, 0, 0, 0, 0, 1][xse2][z1, z2, z3, z4, z5, z6, z7, z8] + α*Derivative[3, 0, 0, 0, 0, 0, 0, 0][xse5][z1, z2, z3, z4, z5, z6, z7, z8]\n",
       "3853                                                                                                                                                            -3*Derivative[0, 0, 1, 0, 0, 0, 1, 0][xse2][z1, z2, z3, z4, z5, z6, z7, z8] - 2*η*Derivative[0, 1, 1, 0, 0, 0, 1, 0][xse5][z1, z2, z3, z4, z5, z6, z7, z8] + Derivative[1, 0, 0, 0, 0, 0, 1, 0][eta2][z1, z2, z3, z4, z5, z6, z7, z8] - 2*Derivative[1, 1, 0, 0, 0, 0, 0, 0][xse2][z1, z2, z3, z4, z5, z6, z7, z8] - η*Derivative[1, 2, 0, 0, 0, 0, 0, 0][xse5][z1, z2, z3, z4, z5, z6, z7, z8] - η*Derivative[3, 0, 0, 0, 0, 0, 0, 0][xse5][z1, z2, z3, z4, z5, z6, z7, z8]\n",
       "3854                                                                                 -Derivative[0, 0, 1, 0, 0, 0, 1, 0][xse2][z1, z2, z3, z4, z5, z6, z7, z8] - 2*η*Derivative[0, 1, 1, 0, 0, 0, 1, 0][xse5][z1, z2, z3, z4, z5, z6, z7, z8] - Derivative[0, 2, 0, 0, 0, 0, 0, 0][xse1][z1, z2, z3, z4, z5, z6, z7, z8] + 3*Derivative[1, 0, 0, 0, 0, 0, 1, 0][eta2][z1, z2, z3, z4, z5, z6, z7, z8] - η*Derivative[1, 2, 0, 0, 0, 0, 0, 0][xse5][z1, z2, z3, z4, z5, z6, z7, z8] - 3*Derivative[2, 0, 0, 0, 0, 0, 0, 0][xse1][z1, z2, z3, z4, z5, z6, z7, z8] - η*Derivative[3, 0, 0, 0, 0, 0, 0, 0][xse5][z1, z2, z3, z4, z5, z6, z7, z8]\n",
       "\n",
       "[3855 rows x 1 columns]"
      ]
     },
     "execution_count": 4,
     "metadata": {},
     "output_type": "execute_result"
    }
   ],
   "source": [
    "# Strip repetetive ' == 0' from the equations\n",
    "\n",
    "raw_eqs.eqn = raw_eqs.eqn.apply(lambda eq: eq.strip(' == 0'))\n",
    "constants = de.find_constants(raw_eqs.eqn)\n",
    "print(constants)\n",
    "raw_eqs"
   ]
  },
  {
   "cell_type": "code",
   "execution_count": 5,
   "metadata": {},
   "outputs": [
    {
     "data": {
      "text/plain": [
       "0                              [-1]\n",
       "1                               [1]\n",
       "2                              [-1]\n",
       "3                               [1]\n",
       "4                              [-1]\n",
       "                   ...             \n",
       "3850        [1, -1, -1, -1, -1, -1]\n",
       "3851        [1, -1, -1, -1, -1, -1]\n",
       "3852    [-1, -1, 1, 1, -1, 1, 1, 1]\n",
       "3853        [-1, -1, 1, -1, -1, -1]\n",
       "3854    [-1, -1, -1, 1, -1, -1, -1]\n",
       "Name: Signs, Length: 3855, dtype: object"
      ]
     },
     "execution_count": 5,
     "metadata": {},
     "output_type": "execute_result"
    }
   ],
   "source": [
    "# Separating the terms and signs \n",
    "\n",
    "raw_eqs['Signs'] = raw_eqs.eqn.apply(de.get_signs)\n",
    "raw_eqs['Terms'] = raw_eqs.eqn.apply(de.get_terms)\n",
    "\n",
    "raw_eqs['Signs']"
   ]
  },
  {
   "cell_type": "code",
   "execution_count": 6,
   "metadata": {},
   "outputs": [
    {
     "name": "stdout",
     "output_type": "stream",
     "text": [
      "[1, [2, 0], [0, 1, 1, 0, 0, 0, 1, 0], 'xse5']\n"
     ]
    }
   ],
   "source": [
    "A de.process_term('α^2*Derivative[0, 1, 1, 0, 0, 0, 1, 0][xse5][z1, z2, z3, z4, z5, z6, z7, z8]', constants))"
   ]
  },
  {
   "cell_type": "code",
   "execution_count": 7,
   "metadata": {},
   "outputs": [
    {
     "data": {
      "text/plain": [
       "[0, 1, 1, 0, 0, 0, 1, 0]"
      ]
     },
     "execution_count": 7,
     "metadata": {},
     "output_type": "execute_result"
    }
   ],
   "source": [
    "de.intlist('[0, 1, 1, 0, 0, 0, 1, 0]')"
   ]
  },
  {
   "cell_type": "code",
   "execution_count": 8,
   "metadata": {},
   "outputs": [
    {
     "data": {
      "text/plain": [
       "'[0, 1, 1, 0, 0, 0, 1, 0][xse5]'"
      ]
     },
     "execution_count": 8,
     "metadata": {},
     "output_type": "execute_result"
    }
   ],
   "source": [
    "A = \"Derivative[0, 1, 1, 0, 0, 0, 1, 0][xse5]\".strip(\"Derivative\")\n",
    "A"
   ]
  },
  {
   "cell_type": "code",
   "execution_count": 18,
   "metadata": {},
   "outputs": [
    {
     "data": {
      "text/plain": [
       "('xse5', [0, 1, 1, 0, 0, 0, 1, 0])"
      ]
     },
     "execution_count": 18,
     "metadata": {},
     "output_type": "execute_result"
    }
   ],
   "source": [
    "de.process_derivative(\"Derivative[0, 1, 1, 0, 0, 0, 1, 0][xse5]\")"
   ]
  },
  {
   "cell_type": "code",
   "execution_count": null,
   "metadata": {},
   "outputs": [],
   "source": []
  }
 ],
 "metadata": {
  "kernelspec": {
   "display_name": "Python 3",
   "language": "python",
   "name": "python3"
  },
  "language_info": {
   "codemirror_mode": {
    "name": "ipython",
    "version": 3
   },
   "file_extension": ".py",
   "mimetype": "text/x-python",
   "name": "python",
   "nbconvert_exporter": "python",
   "pygments_lexer": "ipython3",
   "version": "3.8.3"
  }
 },
 "nbformat": 4,
 "nbformat_minor": 5
}
