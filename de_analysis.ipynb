{
 "cells": [
  {
   "cell_type": "code",
   "execution_count": 2,
   "metadata": {},
   "outputs": [],
   "source": [
    "import numpy as np\n",
    "import pandas as pd\n",
    "from pandas import DataFrame\n",
    "from utils import DEint as de"
   ]
  },
  {
   "cell_type": "code",
   "execution_count": 3,
   "metadata": {},
   "outputs": [],
   "source": [
    "raw_eqs = pd.read_csv('RMHD_CHM_DE.csv', header=None)\n",
    "pd.set_option('display.max_colwidth', None)\n",
    "raw_eqs.columns = ['eqn']"
   ]
  },
  {
   "cell_type": "code",
   "execution_count": 4,
   "metadata": {},
   "outputs": [
    {
     "data": {
      "text/plain": [
       "pandas.core.frame.DataFrame"
      ]
     },
     "execution_count": 4,
     "metadata": {},
     "output_type": "execute_result"
    }
   ],
   "source": [
    "type(raw_eqs)"
   ]
  },
  {
   "cell_type": "code",
   "execution_count": 5,
   "metadata": {},
   "outputs": [
    {
     "name": "stdout",
     "output_type": "stream",
     "text": [
      "['α', 'η']\n"
     ]
    },
    {
     "data": {
      "text/plain": [
       "'2*Derivative[0, 1, 0, 0, 0, 0, 1, 1][eta2][z1, z2, z3, z4, z5, z6, z7, z8] - 2*α*Derivative[0, 1, 1, 0, 0, 0, 1, 0][xse5][z1, z2, z3, z4, z5, z6, z7, z8] - Derivative[0, 2, 0, 0, 0, 0, 0, 1][xse2][z1, z2, z3, z4, z5, z6, z7, z8] - α*Derivative[1, 2, 0, 0, 0, 0, 0, 0][xse5][z1, z2, z3, z4, z5, z6, z7, z8] - 3*Derivative[2, 0, 0, 0, 0, 0, 0, 1][xse2][z1, z2, z3, z4, z5, z6, z7, z8] - α*Derivative[3, 0, 0, 0, 0, 0, 0, 0][xse5][z1, z2, z3, z4, z5, z6, z7, z8]'"
      ]
     },
     "execution_count": 5,
     "metadata": {},
     "output_type": "execute_result"
    }
   ],
   "source": [
    "# Strip repetetive ' == 0' from the equations\n",
    "\n",
    "raw_eqs.eqn = raw_eqs.eqn.apply(lambda eq: eq.strip(' == 0'))\n",
    "constants = de.find_constants(raw_eqs.eqn)\n",
    "print(constants)\n",
    "raw_eqs.eqn.iloc[3850]\n",
    "# term = de.process_term('Derivative[0, 2, 0, 0, 0, 0, 0, 1][xse2][z1, z2, z3, z4, z5, z6, z7, z8]', constants)\n",
    "# term[0]\n",
    "# type(term[0]) != int\n",
    "# de.term_to_dict(term)"
   ]
  },
  {
   "cell_type": "code",
   "execution_count": 6,
   "metadata": {},
   "outputs": [
    {
     "data": {
      "text/plain": [
       "0                              [-1]\n",
       "1                               [1]\n",
       "2                              [-1]\n",
       "3                               [1]\n",
       "4                              [-1]\n",
       "                   ...             \n",
       "3850        [1, -1, -1, -1, -1, -1]\n",
       "3851        [1, -1, -1, -1, -1, -1]\n",
       "3852    [-1, -1, 1, 1, -1, 1, 1, 1]\n",
       "3853        [-1, -1, 1, -1, -1, -1]\n",
       "3854    [-1, -1, -1, 1, -1, -1, -1]\n",
       "Name: Signs, Length: 3855, dtype: object"
      ]
     },
     "execution_count": 6,
     "metadata": {},
     "output_type": "execute_result"
    }
   ],
   "source": [
    "# Separating the terms and signs \n",
    "\n",
    "raw_eqs['Signs'] = raw_eqs.eqn.apply(de.get_signs)\n",
    "raw_eqs['Terms'] = raw_eqs.eqn.apply(de.get_terms)\n",
    "\n",
    "raw_eqs['Signs']"
   ]
  },
  {
   "cell_type": "code",
   "execution_count": 7,
   "metadata": {},
   "outputs": [
    {
     "data": {
      "text/plain": [
       "{'coefficient': 1,\n",
       " 'constants': [2, 0],\n",
       " 'derivatives': [0, 1, 1, 0, 0, 0, 1, 0],\n",
       " 'variable': 'xse5'}"
      ]
     },
     "execution_count": 7,
     "metadata": {},
     "output_type": "execute_result"
    }
   ],
   "source": [
    "term = de.process_term('α^2*Derivative[0, 1, 1, 0, 0, 0, 1, 0][xse5][z1, z2, z3, z4, z5, z6, z7, z8]', constants)\n",
    "de.term_to_dict(term)"
   ]
  },
  {
   "cell_type": "code",
   "execution_count": 8,
   "metadata": {},
   "outputs": [
    {
     "data": {
      "text/plain": [
       "[0, 1, 1, 0, 0, 0, 1, 0]"
      ]
     },
     "execution_count": 8,
     "metadata": {},
     "output_type": "execute_result"
    }
   ],
   "source": [
    "de.intlist('[0, 1, 1, 0, 0, 0, 1, 0]')"
   ]
  },
  {
   "cell_type": "code",
   "execution_count": 9,
   "metadata": {},
   "outputs": [
    {
     "data": {
      "text/plain": [
       "'[0, 1, 1, 0, 0, 0, 1, 0][xse5]'"
      ]
     },
     "execution_count": 9,
     "metadata": {},
     "output_type": "execute_result"
    }
   ],
   "source": [
    "A = \"Derivative[0, 1, 1, 0, 0, 0, 1, 0][xse5]\".strip(\"Derivative\")\n",
    "A"
   ]
  },
  {
   "cell_type": "code",
   "execution_count": 10,
   "metadata": {},
   "outputs": [
    {
     "data": {
      "text/plain": [
       "('xse5', [0, 1, 1, 0, 0, 0, 1, 0])"
      ]
     },
     "execution_count": 10,
     "metadata": {},
     "output_type": "execute_result"
    }
   ],
   "source": [
    "de.process_derivative(\"Derivative[0, 1, 1, 0, 0, 0, 1, 0][xse5]\")"
   ]
  },
  {
   "cell_type": "code",
   "execution_count": 11,
   "metadata": {},
   "outputs": [],
   "source": [
    "eqn = \"Derivative[0, 1, 0, 0, 0, 0, 1, 1][eta2][z1, z2, z3, z4, z5, z6, z7, z8] - 2*α*Derivative[0, 1, 1, 0, 0, 0, 1, 0][xse5][z1, z2, z3, z4, z5, z6, z7, z8]\""
   ]
  },
  {
   "cell_type": "code",
   "execution_count": 12,
   "metadata": {},
   "outputs": [
    {
     "data": {
      "text/plain": [
       "['Derivative[0, 1, 0, 0, 0, 0, 1, 1][eta2][z1, z2, z3, z4, z5, z6, z7, z8]',\n",
       " '2*α*Derivative[0, 1, 1, 0, 0, 0, 1, 0][xse5][z1, z2, z3, z4, z5, z6, z7, z8]']"
      ]
     },
     "execution_count": 12,
     "metadata": {},
     "output_type": "execute_result"
    }
   ],
   "source": [
    "de.get_terms(eqn)"
   ]
  },
  {
   "cell_type": "code",
   "execution_count": 13,
   "metadata": {},
   "outputs": [
    {
     "data": {
      "text/plain": [
       "[1, -1]"
      ]
     },
     "execution_count": 13,
     "metadata": {},
     "output_type": "execute_result"
    }
   ],
   "source": [
    "de.get_signs(eqn)"
   ]
  },
  {
   "cell_type": "code",
   "execution_count": 14,
   "metadata": {},
   "outputs": [
    {
     "data": {
      "text/plain": [
       "[{'coefficient': 1,\n",
       "  'constants': [0, 0],\n",
       "  'derivatives': [0, 1, 0, 0, 0, 0, 1, 1],\n",
       "  'variable': 'eta2'},\n",
       " {'coefficient': -2,\n",
       "  'constants': [1, 0],\n",
       "  'derivatives': [0, 1, 1, 0, 0, 0, 1, 0],\n",
       "  'variable': 'xse5'}]"
      ]
     },
     "execution_count": 14,
     "metadata": {},
     "output_type": "execute_result"
    }
   ],
   "source": [
    "de.eqn_process(eqn, constants)"
   ]
  },
  {
   "cell_type": "code",
   "execution_count": 31,
   "metadata": {},
   "outputs": [
    {
     "data": {
      "text/plain": [
       "[{'coefficient': -4,\n",
       "  'constants': [0, 0],\n",
       "  'derivatives': [0, 0, 0, 0, 0, 0, 1, 1],\n",
       "  'variable': 'xse1'}]"
      ]
     },
     "execution_count": 31,
     "metadata": {},
     "output_type": "execute_result"
    }
   ],
   "source": [
    "det_eqn = []\n",
    "for i, row in raw_eqs.iterrows():\n",
    "    det_eqn.append(de.eqn_process(row.eqn, constants))\n",
    "det_eqn[140]"
   ]
  },
  {
   "cell_type": "code",
   "execution_count": null,
   "metadata": {},
   "outputs": [],
   "source": []
  },
  {
   "cell_type": "code",
   "execution_count": 16,
   "metadata": {},
   "outputs": [
    {
     "data": {
      "text/plain": [
       "True"
      ]
     },
     "execution_count": 16,
     "metadata": {},
     "output_type": "execute_result"
    }
   ],
   "source": [
    "A = [0,0,0,1,0,0]\n",
    "B = [3,0,1,1,0,0]\n",
    "de.compare_derivatives(A,B)"
   ]
  },
  {
   "cell_type": "code",
   "execution_count": 25,
   "metadata": {},
   "outputs": [
    {
     "name": "stdout",
     "output_type": "stream",
     "text": [
      "1 a\n",
      "2 b\n",
      "3 c\n",
      "4 []\n"
     ]
    }
   ],
   "source": [
    "A = {1 :\"a\", 2: \"b\", 3:\"c\", 4: []}\n",
    "for i, v in A.items():\n",
    "    print(i,v)"
   ]
  },
  {
   "cell_type": "code",
   "execution_count": 18,
   "metadata": {},
   "outputs": [
    {
     "data": {
      "text/plain": [
       "0"
      ]
     },
     "execution_count": 18,
     "metadata": {},
     "output_type": "execute_result"
    }
   ],
   "source": [
    "len([])"
   ]
  },
  {
   "cell_type": "code",
   "execution_count": 19,
   "metadata": {},
   "outputs": [
    {
     "data": {
      "text/plain": [
       "'a'"
      ]
     },
     "execution_count": 19,
     "metadata": {},
     "output_type": "execute_result"
    }
   ],
   "source": [
    "A.pop(1)"
   ]
  },
  {
   "cell_type": "code",
   "execution_count": 20,
   "metadata": {},
   "outputs": [],
   "source": [
    "A = [0,0,0]"
   ]
  },
  {
   "cell_type": "code",
   "execution_count": 21,
   "metadata": {},
   "outputs": [
    {
     "ename": "ValueError",
     "evalue": "'a' is not in list",
     "output_type": "error",
     "traceback": [
      "\u001b[1;31m---------------------------------------------------------------------------\u001b[0m",
      "\u001b[1;31mValueError\u001b[0m                                Traceback (most recent call last)",
      "\u001b[1;32m<ipython-input-21-174812cd42f4>\u001b[0m in \u001b[0;36m<module>\u001b[1;34m\u001b[0m\n\u001b[1;32m----> 1\u001b[1;33m \u001b[0mA\u001b[0m \u001b[1;33m[\u001b[0m\u001b[0mA\u001b[0m\u001b[1;33m.\u001b[0m\u001b[0mindex\u001b[0m\u001b[1;33m(\u001b[0m\u001b[1;34m\"a\"\u001b[0m\u001b[1;33m)\u001b[0m\u001b[1;33m]\u001b[0m \u001b[1;33m=\u001b[0m \u001b[1;36m0\u001b[0m\u001b[1;33m\u001b[0m\u001b[1;33m\u001b[0m\u001b[0m\n\u001b[0m",
      "\u001b[1;31mValueError\u001b[0m: 'a' is not in list"
     ]
    }
   ],
   "source": [
    "A [A.index(\"a\")] = 0"
   ]
  },
  {
   "cell_type": "code",
   "execution_count": 22,
   "metadata": {},
   "outputs": [
    {
     "data": {
      "text/plain": [
       "[0, 0, 0]"
      ]
     },
     "execution_count": 22,
     "metadata": {},
     "output_type": "execute_result"
    }
   ],
   "source": [
    "A"
   ]
  },
  {
   "cell_type": "code",
   "execution_count": 23,
   "metadata": {},
   "outputs": [
    {
     "data": {
      "text/plain": [
       "[]"
      ]
     },
     "execution_count": 23,
     "metadata": {},
     "output_type": "execute_result"
    }
   ],
   "source": [
    "list(filter(lambda num: num != 0, A))"
   ]
  },
  {
   "cell_type": "code",
   "execution_count": 26,
   "metadata": {},
   "outputs": [],
   "source": [
    "new_dict = {k:v for k,v in A.items() if v}"
   ]
  },
  {
   "cell_type": "code",
   "execution_count": 27,
   "metadata": {},
   "outputs": [
    {
     "data": {
      "text/plain": [
       "3"
      ]
     },
     "execution_count": 27,
     "metadata": {},
     "output_type": "execute_result"
    }
   ],
   "source": [
    "len(new_dict)"
   ]
  },
  {
   "cell_type": "code",
   "execution_count": 32,
   "metadata": {},
   "outputs": [],
   "source": [
    "import Lie_Analysis as LA"
   ]
  },
  {
   "cell_type": "code",
   "execution_count": 33,
   "metadata": {},
   "outputs": [],
   "source": [
    "det_eqns = LA.cvs_to_list()"
   ]
  },
  {
   "cell_type": "code",
   "execution_count": 35,
   "metadata": {},
   "outputs": [
    {
     "data": {
      "text/plain": [
       "{'coefficient': -4,\n",
       " 'constants': [0, 0],\n",
       " 'derivatives': [0, 0, 0, 0, 0, 0, 1, 1],\n",
       " 'variable': 'xse1'}"
      ]
     },
     "execution_count": 35,
     "metadata": {},
     "output_type": "execute_result"
    }
   ],
   "source": [
    "det_eqns[140][0]"
   ]
  },
  {
   "cell_type": "code",
   "execution_count": null,
   "metadata": {},
   "outputs": [],
   "source": []
  }
 ],
 "metadata": {
  "kernelspec": {
   "display_name": "Python 3",
   "language": "python",
   "name": "python3"
  },
  "language_info": {
   "codemirror_mode": {
    "name": "ipython",
    "version": 3
   },
   "file_extension": ".py",
   "mimetype": "text/x-python",
   "name": "python",
   "nbconvert_exporter": "python",
   "pygments_lexer": "ipython3",
   "version": "3.8.3"
  }
 },
 "nbformat": 4,
 "nbformat_minor": 5
}
