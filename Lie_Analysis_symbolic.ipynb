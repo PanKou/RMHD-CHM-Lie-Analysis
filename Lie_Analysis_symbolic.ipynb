{
 "cells": [
  {
   "cell_type": "code",
   "execution_count": 1,
   "id": "25293644",
   "metadata": {},
   "outputs": [],
   "source": [
    "from sympy import *\n",
    "import Lie_Analysis as LA\n",
    "from utils import DEint as de"
   ]
  },
  {
   "cell_type": "code",
   "execution_count": 2,
   "id": "90c88278",
   "metadata": {},
   "outputs": [],
   "source": [
    "det_eqns = LA.cvs_to_list()\n",
    "det_eqns = LA.simplify_redundant_eqn(det_eqns)"
   ]
  },
  {
   "cell_type": "code",
   "execution_count": 3,
   "id": "6e17f549",
   "metadata": {},
   "outputs": [
    {
     "output_type": "execute_result",
     "data": {
      "text/plain": [
       "Matrix([\n",
       "[ 1,                                                                    Derivative(eta_2(x, y, z, t, tau, phi, psi, chi), y) - Derivative(xi_1(x, y, z, t, tau, phi, psi, chi), z)],\n",
       "[ 2,                                                                                                                  Derivative(eta_2(x, y, z, t, tau, phi, psi, chi), (y, 2), z)],\n",
       "[ 3,                                                   -alpha_0*Derivative(eta_2(x, y, z, t, tau, phi, psi, chi), y) + alpha_0*Derivative(xi_1(x, y, z, t, tau, phi, psi, chi), z)],\n",
       "[ 4,                                                                    Derivative(eta_2(x, y, z, t, tau, phi, psi, chi), y) - Derivative(xi_1(x, y, z, t, tau, phi, psi, chi), z)],\n",
       "[ 5, -alpha_0*Derivative(eta_3(x, y, z, t, tau, phi, psi, chi), z) + Derivative(eta_1(x, y, z, t, tau, phi, psi, chi), z) + Derivative(eta_2(x, y, z, t, tau, phi, psi, chi), tau)],\n",
       "[ 6,                                                                                                                         Derivative(xi_1(x, y, z, t, tau, phi, psi, chi), tau)],\n",
       "[ 7,                                                                                                                         Derivative(xi_2(x, y, z, t, tau, phi, psi, chi), tau)],\n",
       "[ 8,                                                                                                                         Derivative(xi_3(x, y, z, t, tau, phi, psi, chi), tau)],\n",
       "[ 9,                                                                    Derivative(eta_2(x, y, z, t, tau, phi, psi, chi), y) - Derivative(xi_1(x, y, z, t, tau, phi, psi, chi), z)],\n",
       "[10,                                                                                                                          Derivative(eta_3(x, y, z, t, tau, phi, psi, chi), t)],\n",
       "[11,                                                                                                                        Derivative(eta_1(x, y, z, t, tau, phi, psi, chi), chi)],\n",
       "[12,                                                                                                                        Derivative(eta_2(x, y, z, t, tau, phi, psi, chi), chi)],\n",
       "[13,                                                                                                                         Derivative(xi_1(x, y, z, t, tau, phi, psi, chi), chi)],\n",
       "[14,                                                                                                                         Derivative(xi_2(x, y, z, t, tau, phi, psi, chi), chi)],\n",
       "[15,                                                                                                                         Derivative(xi_3(x, y, z, t, tau, phi, psi, chi), chi)],\n",
       "[16,                                                                                                                         Derivative(xi_4(x, y, z, t, tau, phi, psi, chi), chi)],\n",
       "[17,                                                                                                                         Derivative(xi_5(x, y, z, t, tau, phi, psi, chi), chi)],\n",
       "[18,                                                                                                                         Derivative(xi_1(x, y, z, t, tau, phi, psi, chi), psi)],\n",
       "[19,                                                                                                                         Derivative(xi_2(x, y, z, t, tau, phi, psi, chi), psi)],\n",
       "[20,                                                                                                                         Derivative(xi_3(x, y, z, t, tau, phi, psi, chi), psi)],\n",
       "[21,                                                                                                                         Derivative(xi_4(x, y, z, t, tau, phi, psi, chi), psi)],\n",
       "[22,                                                                                                                         Derivative(xi_5(x, y, z, t, tau, phi, psi, chi), psi)],\n",
       "[23,                                                                                                                         Derivative(xi_1(x, y, z, t, tau, phi, psi, chi), phi)],\n",
       "[24,                                                                                                                         Derivative(xi_2(x, y, z, t, tau, phi, psi, chi), phi)],\n",
       "[25,                                                                                                                         Derivative(xi_3(x, y, z, t, tau, phi, psi, chi), phi)],\n",
       "[26,                                                                                                                         Derivative(xi_4(x, y, z, t, tau, phi, psi, chi), phi)],\n",
       "[27,                                                                                                                         Derivative(xi_5(x, y, z, t, tau, phi, psi, chi), phi)],\n",
       "[28,                                                                                                                           Derivative(xi_5(x, y, z, t, tau, phi, psi, chi), t)],\n",
       "[29,                                                                                                                   Derivative(eta_1(x, y, z, t, tau, phi, psi, chi), phi, psi)],\n",
       "[30,                                                                                                                           Derivative(xi_4(x, y, z, t, tau, phi, psi, chi), z)],\n",
       "[31,                                                                                                                           Derivative(xi_5(x, y, z, t, tau, phi, psi, chi), z)],\n",
       "[32,                                                                                                                   Derivative(eta_2(x, y, z, t, tau, phi, psi, chi), phi, psi)],\n",
       "[33,                                                                                                                           Derivative(xi_3(x, y, z, t, tau, phi, psi, chi), y)],\n",
       "[34,                                                                                                                           Derivative(xi_4(x, y, z, t, tau, phi, psi, chi), y)],\n",
       "[35,                                                                                                                           Derivative(xi_5(x, y, z, t, tau, phi, psi, chi), y)],\n",
       "[36,                                                                                                                        Derivative(xi_2(x, y, z, t, tau, phi, psi, chi), t, y)],\n",
       "[37,                                                                                                                          Derivative(eta_1(x, y, z, t, tau, phi, psi, chi), x)],\n",
       "[38,                                                                                                                           Derivative(xi_1(x, y, z, t, tau, phi, psi, chi), x)],\n",
       "[39,                                                                                                                           Derivative(xi_3(x, y, z, t, tau, phi, psi, chi), x)],\n",
       "[40,                                                                                                                           Derivative(xi_4(x, y, z, t, tau, phi, psi, chi), x)],\n",
       "[41,                                                                                                                           Derivative(xi_5(x, y, z, t, tau, phi, psi, chi), x)],\n",
       "[42,                                                                                                                        Derivative(xi_1(x, y, z, t, tau, phi, psi, chi), t, y)],\n",
       "[43,                                                                                                                        Derivative(xi_2(x, y, z, t, tau, phi, psi, chi), x, z)],\n",
       "[44,                                                                                                                           Derivative(xi_4(x, y, z, t, tau, phi, psi, chi), t)],\n",
       "[45,                                                                                                                           Derivative(xi_3(x, y, z, t, tau, phi, psi, chi), z)],\n",
       "[46,                                                                                                                     Derivative(eta_1(x, y, z, t, tau, phi, psi, chi), (y, 3))],\n",
       "[47,                                                                                                                          Derivative(eta_2(x, y, z, t, tau, phi, psi, chi), x)],\n",
       "[48,                                                                                                                         Derivative(xi_4(x, y, z, t, tau, phi, psi, chi), tau)],\n",
       "[49,                                                                                                                         Derivative(xi_5(x, y, z, t, tau, phi, psi, chi), tau)],\n",
       "[50,                                                                                                                        Derivative(eta_3(x, y, z, t, tau, phi, psi, chi), phi)],\n",
       "[51,                                                                                                                        Derivative(eta_3(x, y, z, t, tau, phi, psi, chi), chi)],\n",
       "[52,                                                                                                                          Derivative(eta_3(x, y, z, t, tau, phi, psi, chi), x)],\n",
       "[53,                                                                                                                          Derivative(eta_1(x, y, z, t, tau, phi, psi, chi), y)],\n",
       "[54,                                                                                                                          Derivative(eta_3(x, y, z, t, tau, phi, psi, chi), y)],\n",
       "[55,                                                                                                                        Derivative(eta_3(x, y, z, t, tau, phi, psi, chi), psi)],\n",
       "[56,                                                                                                                           Derivative(xi_3(x, y, z, t, tau, phi, psi, chi), t)],\n",
       "[57,                                                                                                                     Derivative(eta_2(x, y, z, t, tau, phi, psi, chi), (y, 3))]])"
      ],
      "text/latex": "$\\displaystyle \\left[\\begin{matrix}1 & \\frac{\\partial}{\\partial y} \\eta_{2}{\\left(x,y,z,t,\\tau,\\phi,\\psi,\\chi \\right)} - \\frac{\\partial}{\\partial z} \\xi_{1}{\\left(x,y,z,t,\\tau,\\phi,\\psi,\\chi \\right)}\\\\2 & \\frac{\\partial^{3}}{\\partial z\\partial y^{2}} \\eta_{2}{\\left(x,y,z,t,\\tau,\\phi,\\psi,\\chi \\right)}\\\\3 & - \\alpha_{0} \\frac{\\partial}{\\partial y} \\eta_{2}{\\left(x,y,z,t,\\tau,\\phi,\\psi,\\chi \\right)} + \\alpha_{0} \\frac{\\partial}{\\partial z} \\xi_{1}{\\left(x,y,z,t,\\tau,\\phi,\\psi,\\chi \\right)}\\\\4 & \\frac{\\partial}{\\partial y} \\eta_{2}{\\left(x,y,z,t,\\tau,\\phi,\\psi,\\chi \\right)} - \\frac{\\partial}{\\partial z} \\xi_{1}{\\left(x,y,z,t,\\tau,\\phi,\\psi,\\chi \\right)}\\\\5 & - \\alpha_{0} \\frac{\\partial}{\\partial z} \\eta_{3}{\\left(x,y,z,t,\\tau,\\phi,\\psi,\\chi \\right)} + \\frac{\\partial}{\\partial z} \\eta_{1}{\\left(x,y,z,t,\\tau,\\phi,\\psi,\\chi \\right)} + \\frac{\\partial}{\\partial \\tau} \\eta_{2}{\\left(x,y,z,t,\\tau,\\phi,\\psi,\\chi \\right)}\\\\6 & \\frac{\\partial}{\\partial \\tau} \\xi_{1}{\\left(x,y,z,t,\\tau,\\phi,\\psi,\\chi \\right)}\\\\7 & \\frac{\\partial}{\\partial \\tau} \\xi_{2}{\\left(x,y,z,t,\\tau,\\phi,\\psi,\\chi \\right)}\\\\8 & \\frac{\\partial}{\\partial \\tau} \\xi_{3}{\\left(x,y,z,t,\\tau,\\phi,\\psi,\\chi \\right)}\\\\9 & \\frac{\\partial}{\\partial y} \\eta_{2}{\\left(x,y,z,t,\\tau,\\phi,\\psi,\\chi \\right)} - \\frac{\\partial}{\\partial z} \\xi_{1}{\\left(x,y,z,t,\\tau,\\phi,\\psi,\\chi \\right)}\\\\10 & \\frac{\\partial}{\\partial t} \\eta_{3}{\\left(x,y,z,t,\\tau,\\phi,\\psi,\\chi \\right)}\\\\11 & \\frac{\\partial}{\\partial \\chi} \\eta_{1}{\\left(x,y,z,t,\\tau,\\phi,\\psi,\\chi \\right)}\\\\12 & \\frac{\\partial}{\\partial \\chi} \\eta_{2}{\\left(x,y,z,t,\\tau,\\phi,\\psi,\\chi \\right)}\\\\13 & \\frac{\\partial}{\\partial \\chi} \\xi_{1}{\\left(x,y,z,t,\\tau,\\phi,\\psi,\\chi \\right)}\\\\14 & \\frac{\\partial}{\\partial \\chi} \\xi_{2}{\\left(x,y,z,t,\\tau,\\phi,\\psi,\\chi \\right)}\\\\15 & \\frac{\\partial}{\\partial \\chi} \\xi_{3}{\\left(x,y,z,t,\\tau,\\phi,\\psi,\\chi \\right)}\\\\16 & \\frac{\\partial}{\\partial \\chi} \\xi_{4}{\\left(x,y,z,t,\\tau,\\phi,\\psi,\\chi \\right)}\\\\17 & \\frac{\\partial}{\\partial \\chi} \\xi_{5}{\\left(x,y,z,t,\\tau,\\phi,\\psi,\\chi \\right)}\\\\18 & \\frac{\\partial}{\\partial \\psi} \\xi_{1}{\\left(x,y,z,t,\\tau,\\phi,\\psi,\\chi \\right)}\\\\19 & \\frac{\\partial}{\\partial \\psi} \\xi_{2}{\\left(x,y,z,t,\\tau,\\phi,\\psi,\\chi \\right)}\\\\20 & \\frac{\\partial}{\\partial \\psi} \\xi_{3}{\\left(x,y,z,t,\\tau,\\phi,\\psi,\\chi \\right)}\\\\21 & \\frac{\\partial}{\\partial \\psi} \\xi_{4}{\\left(x,y,z,t,\\tau,\\phi,\\psi,\\chi \\right)}\\\\22 & \\frac{\\partial}{\\partial \\psi} \\xi_{5}{\\left(x,y,z,t,\\tau,\\phi,\\psi,\\chi \\right)}\\\\23 & \\frac{\\partial}{\\partial \\phi} \\xi_{1}{\\left(x,y,z,t,\\tau,\\phi,\\psi,\\chi \\right)}\\\\24 & \\frac{\\partial}{\\partial \\phi} \\xi_{2}{\\left(x,y,z,t,\\tau,\\phi,\\psi,\\chi \\right)}\\\\25 & \\frac{\\partial}{\\partial \\phi} \\xi_{3}{\\left(x,y,z,t,\\tau,\\phi,\\psi,\\chi \\right)}\\\\26 & \\frac{\\partial}{\\partial \\phi} \\xi_{4}{\\left(x,y,z,t,\\tau,\\phi,\\psi,\\chi \\right)}\\\\27 & \\frac{\\partial}{\\partial \\phi} \\xi_{5}{\\left(x,y,z,t,\\tau,\\phi,\\psi,\\chi \\right)}\\\\28 & \\frac{\\partial}{\\partial t} \\xi_{5}{\\left(x,y,z,t,\\tau,\\phi,\\psi,\\chi \\right)}\\\\29 & \\frac{\\partial^{2}}{\\partial \\psi\\partial \\phi} \\eta_{1}{\\left(x,y,z,t,\\tau,\\phi,\\psi,\\chi \\right)}\\\\30 & \\frac{\\partial}{\\partial z} \\xi_{4}{\\left(x,y,z,t,\\tau,\\phi,\\psi,\\chi \\right)}\\\\31 & \\frac{\\partial}{\\partial z} \\xi_{5}{\\left(x,y,z,t,\\tau,\\phi,\\psi,\\chi \\right)}\\\\32 & \\frac{\\partial^{2}}{\\partial \\psi\\partial \\phi} \\eta_{2}{\\left(x,y,z,t,\\tau,\\phi,\\psi,\\chi \\right)}\\\\33 & \\frac{\\partial}{\\partial y} \\xi_{3}{\\left(x,y,z,t,\\tau,\\phi,\\psi,\\chi \\right)}\\\\34 & \\frac{\\partial}{\\partial y} \\xi_{4}{\\left(x,y,z,t,\\tau,\\phi,\\psi,\\chi \\right)}\\\\35 & \\frac{\\partial}{\\partial y} \\xi_{5}{\\left(x,y,z,t,\\tau,\\phi,\\psi,\\chi \\right)}\\\\36 & \\frac{\\partial^{2}}{\\partial y\\partial t} \\xi_{2}{\\left(x,y,z,t,\\tau,\\phi,\\psi,\\chi \\right)}\\\\37 & \\frac{\\partial}{\\partial x} \\eta_{1}{\\left(x,y,z,t,\\tau,\\phi,\\psi,\\chi \\right)}\\\\38 & \\frac{\\partial}{\\partial x} \\xi_{1}{\\left(x,y,z,t,\\tau,\\phi,\\psi,\\chi \\right)}\\\\39 & \\frac{\\partial}{\\partial x} \\xi_{3}{\\left(x,y,z,t,\\tau,\\phi,\\psi,\\chi \\right)}\\\\40 & \\frac{\\partial}{\\partial x} \\xi_{4}{\\left(x,y,z,t,\\tau,\\phi,\\psi,\\chi \\right)}\\\\41 & \\frac{\\partial}{\\partial x} \\xi_{5}{\\left(x,y,z,t,\\tau,\\phi,\\psi,\\chi \\right)}\\\\42 & \\frac{\\partial^{2}}{\\partial y\\partial t} \\xi_{1}{\\left(x,y,z,t,\\tau,\\phi,\\psi,\\chi \\right)}\\\\43 & \\frac{\\partial^{2}}{\\partial z\\partial x} \\xi_{2}{\\left(x,y,z,t,\\tau,\\phi,\\psi,\\chi \\right)}\\\\44 & \\frac{\\partial}{\\partial t} \\xi_{4}{\\left(x,y,z,t,\\tau,\\phi,\\psi,\\chi \\right)}\\\\45 & \\frac{\\partial}{\\partial z} \\xi_{3}{\\left(x,y,z,t,\\tau,\\phi,\\psi,\\chi \\right)}\\\\46 & \\frac{\\partial^{3}}{\\partial y^{3}} \\eta_{1}{\\left(x,y,z,t,\\tau,\\phi,\\psi,\\chi \\right)}\\\\47 & \\frac{\\partial}{\\partial x} \\eta_{2}{\\left(x,y,z,t,\\tau,\\phi,\\psi,\\chi \\right)}\\\\48 & \\frac{\\partial}{\\partial \\tau} \\xi_{4}{\\left(x,y,z,t,\\tau,\\phi,\\psi,\\chi \\right)}\\\\49 & \\frac{\\partial}{\\partial \\tau} \\xi_{5}{\\left(x,y,z,t,\\tau,\\phi,\\psi,\\chi \\right)}\\\\50 & \\frac{\\partial}{\\partial \\phi} \\eta_{3}{\\left(x,y,z,t,\\tau,\\phi,\\psi,\\chi \\right)}\\\\51 & \\frac{\\partial}{\\partial \\chi} \\eta_{3}{\\left(x,y,z,t,\\tau,\\phi,\\psi,\\chi \\right)}\\\\52 & \\frac{\\partial}{\\partial x} \\eta_{3}{\\left(x,y,z,t,\\tau,\\phi,\\psi,\\chi \\right)}\\\\53 & \\frac{\\partial}{\\partial y} \\eta_{1}{\\left(x,y,z,t,\\tau,\\phi,\\psi,\\chi \\right)}\\\\54 & \\frac{\\partial}{\\partial y} \\eta_{3}{\\left(x,y,z,t,\\tau,\\phi,\\psi,\\chi \\right)}\\\\55 & \\frac{\\partial}{\\partial \\psi} \\eta_{3}{\\left(x,y,z,t,\\tau,\\phi,\\psi,\\chi \\right)}\\\\56 & \\frac{\\partial}{\\partial t} \\xi_{3}{\\left(x,y,z,t,\\tau,\\phi,\\psi,\\chi \\right)}\\\\57 & \\frac{\\partial^{3}}{\\partial y^{3}} \\eta_{2}{\\left(x,y,z,t,\\tau,\\phi,\\psi,\\chi \\right)}\\end{matrix}\\right]$"
     },
     "metadata": {},
     "execution_count": 3
    }
   ],
   "source": [
    "LA.sym_det_eqn(det_eqns)"
   ]
  },
  {
   "cell_type": "code",
   "execution_count": null,
   "metadata": {},
   "outputs": [],
   "source": []
  }
 ],
 "metadata": {
  "kernelspec": {
   "name": "python3",
   "display_name": "Python 3.8.8 64-bit ('base': conda)"
  },
  "language_info": {
   "codemirror_mode": {
    "name": "ipython",
    "version": 3
   },
   "file_extension": ".py",
   "mimetype": "text/x-python",
   "name": "python",
   "nbconvert_exporter": "python",
   "pygments_lexer": "ipython3",
   "version": "3.8.8"
  },
  "interpreter": {
   "hash": "05b63289e74bde487029b66d05e41176b7d65a5ac482fc3771469e02a6aba717"
  }
 },
 "nbformat": 4,
 "nbformat_minor": 5
}