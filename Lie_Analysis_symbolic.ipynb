{
 "cells": [
  {
   "cell_type": "code",
   "execution_count": 1,
   "id": "25293644",
   "metadata": {},
   "outputs": [],
   "source": [
    "from sympy import *\n",
    "import Lie_Analysis as LA"
   ]
  },
  {
   "cell_type": "code",
   "execution_count": 2,
   "id": "90c88278",
   "metadata": {},
   "outputs": [],
   "source": [
    "det_eqns = LA.cvs_to_list()\n",
    "det_eqns = LA.simplify_redundant_eqn(det_eqns)"
   ]
  },
  {
   "cell_type": "code",
   "execution_count": 4,
   "id": "6e17f549",
   "metadata": {},
   "outputs": [
    {
     "data": {
      "text/plain": [
       "[{'coefficient': -1,\n",
       "  'constants': [0, 0],\n",
       "  'derivatives': [0, 0, 1, 0, 0, 0, 0, 0],\n",
       "  'variable': 'xse1'},\n",
       " {'coefficient': 1,\n",
       "  'constants': [0, 0],\n",
       "  'derivatives': [0, 1, 0, 0, 0, 0, 0, 0],\n",
       "  'variable': 'eta2'}]"
      ]
     },
     "execution_count": 4,
     "metadata": {},
     "output_type": "execute_result"
    }
   ],
   "source": [
    "det_eqns[825]"
   ]
  },
  {
   "cell_type": "code",
   "execution_count": 5,
   "id": "2b17d19a",
   "metadata": {},
   "outputs": [
    {
     "data": {
      "text/latex": [
       "$\\displaystyle \\frac{\\partial}{\\partial y} \\eta_{2}{\\left(x,y,z,t,\\tau,\\phi,\\psi,\\chi \\right)} - \\frac{\\partial}{\\partial z} \\xi_{1}{\\left(x,y,z,t,\\tau,\\phi,\\psi,\\chi \\right)}$"
      ],
      "text/plain": [
       "Derivative(eta_2(x, y, z, t, tau, phi, psi, chi), y) - Derivative(xi_1(x, y, z, t, tau, phi, psi, chi), z)"
      ]
     },
     "execution_count": 5,
     "metadata": {},
     "output_type": "execute_result"
    }
   ],
   "source": [
    "LA.get_symbolic_terms(det_eqns[825])"
   ]
  },
  {
   "cell_type": "code",
   "execution_count": 2,
   "id": "c86134a1",
   "metadata": {},
   "outputs": [],
   "source": [
    "x, y, z, t, tau = symbols('x y z t tau')"
   ]
  },
  {
   "cell_type": "code",
   "execution_count": 4,
   "id": "06ded74c",
   "metadata": {},
   "outputs": [],
   "source": [
    "phi, psi, chi = symbols('phi psi chi')"
   ]
  },
  {
   "cell_type": "code",
   "execution_count": 42,
   "id": "cadab3d6",
   "metadata": {},
   "outputs": [],
   "source": [
    "xi_1 = Function('xi_1')(x, y, z, t, tau, phi, psi, chi)\n",
    "xi_2 = Function('xi_2')(x, y, z, t, tau, phi, psi, chi)\n",
    "xi_3 = Function('xi_3')(x, y, z, t, tau, phi, psi, chi)\n",
    "xi_4 = Function('xi_4')(x, y, z, t, tau, phi, psi, chi)\n",
    "xi_5 = Function('xi_5')(x, y, z, t, tau, phi, psi, chi)\n",
    "\n",
    "eta_1 = Function('eta_1')(x, y, z, t, tau, phi, psi, chi)\n",
    "eta_2 = Function('eta_2')(x, y, z, t, tau, phi, psi, chi)\n",
    "eta_3 = Function('eta_3')(x, y, z, t, tau, phi, psi, chi)\n",
    "\n",
    "var_dict = {'xse1':xi_1, 'xse2':xi_2, 'xse3':xi_3, 'xse4':xi_4, 'xse5':xi_5, \n",
    "           'eta1':eta_1, 'eta2':eta_2, 'eta3':eta_3}\n",
    "var_list = [x, y, z, t, tau, phi, psi, chi]\n",
    "alpha, eta = symbols('alpha eta')"
   ]
  },
  {
   "cell_type": "code",
   "execution_count": 43,
   "id": "ac7abffc",
   "metadata": {},
   "outputs": [],
   "source": [
    "term = {'coefficient': -3, 'constants': [1, 2], 'derivatives': [0, 0, 1, 3, 2, 0, 1, 0], 'variable': 'xse1'}"
   ]
  },
  {
   "cell_type": "code",
   "execution_count": 44,
   "id": "b07747ed",
   "metadata": {},
   "outputs": [],
   "source": [
    "var = var_dict[term['variable']]\n",
    "list_devs = term['derivatives']\n",
    "D = take_derivative(list_devs, var, var_list)\n",
    "A = term['coefficient']*alpha**term['constants'][0]*eta**term['constants'][1]*D"
   ]
  },
  {
   "cell_type": "code",
   "execution_count": 45,
   "id": "1c0053bd",
   "metadata": {},
   "outputs": [],
   "source": [
    "def take_derivative(list_devs, var, var_list):\n",
    "    for i in range(len(list_devs)):\n",
    "        var = var.diff(var_list[i],list_devs[i])\n",
    "    return var"
   ]
  },
  {
   "cell_type": "code",
   "execution_count": 46,
   "id": "8742cdea",
   "metadata": {},
   "outputs": [
    {
     "data": {
      "text/latex": [
       "$\\displaystyle - 3 \\alpha \\eta^{2} \\frac{\\partial^{7}}{\\partial z\\partial \\tau^{2}\\partial t^{3}\\partial \\psi} \\xi_{1}{\\left(x,y,z,t,\\tau,\\phi,\\psi,\\chi \\right)}$"
      ],
      "text/plain": [
       "-3*alpha*eta**2*Derivative(xi_1(x, y, z, t, tau, phi, psi, chi), psi, (t, 3), (tau, 2), z)"
      ]
     },
     "execution_count": 46,
     "metadata": {},
     "output_type": "execute_result"
    }
   ],
   "source": [
    "A"
   ]
  },
  {
   "cell_type": "code",
   "execution_count": 41,
   "id": "a3350b1b",
   "metadata": {},
   "outputs": [
    {
     "data": {
      "text/latex": [
       "$\\displaystyle \\xi_{5}{\\left(x,y,z,t,\\tau,\\phi,\\psi,\\chi \\right)}$"
      ],
      "text/plain": [
       "xi_5(x, y, z, t, tau, phi, psi, chi)"
      ]
     },
     "execution_count": 41,
     "metadata": {},
     "output_type": "execute_result"
    }
   ],
   "source": [
    "var"
   ]
  },
  {
   "cell_type": "code",
   "execution_count": 2,
   "id": "60a57660",
   "metadata": {},
   "outputs": [
    {
     "output_type": "error",
     "ename": "AttributeError",
     "evalue": "module 'Lie_Analysis' has no attribute 'sym_det_eqn'",
     "traceback": [
      "\u001b[1;31m---------------------------------------------------------------------------\u001b[0m",
      "\u001b[1;31mAttributeError\u001b[0m                            Traceback (most recent call last)",
      "\u001b[1;32m<ipython-input-2-84f013665717>\u001b[0m in \u001b[0;36m<module>\u001b[1;34m\u001b[0m\n\u001b[0;32m      1\u001b[0m \u001b[0mdet_eqns\u001b[0m \u001b[1;33m=\u001b[0m \u001b[0mLA\u001b[0m\u001b[1;33m.\u001b[0m\u001b[0mcvs_to_list\u001b[0m\u001b[1;33m(\u001b[0m\u001b[1;33m)\u001b[0m\u001b[1;33m\u001b[0m\u001b[1;33m\u001b[0m\u001b[0m\n\u001b[0;32m      2\u001b[0m \u001b[0mdet_eqns\u001b[0m \u001b[1;33m=\u001b[0m \u001b[0mLA\u001b[0m\u001b[1;33m.\u001b[0m\u001b[0msimplify_redundant_eqn\u001b[0m\u001b[1;33m(\u001b[0m\u001b[0mdet_eqns\u001b[0m\u001b[1;33m)\u001b[0m\u001b[1;33m\u001b[0m\u001b[1;33m\u001b[0m\u001b[0m\n\u001b[1;32m----> 3\u001b[1;33m \u001b[0mLA\u001b[0m\u001b[1;33m.\u001b[0m\u001b[0msym_det_eqn\u001b[0m\u001b[1;33m\u001b[0m\u001b[1;33m\u001b[0m\u001b[0m\n\u001b[0m",
      "\u001b[1;31mAttributeError\u001b[0m: module 'Lie_Analysis' has no attribute 'sym_det_eqn'"
     ]
    }
   ],
   "source": [
    "\n",
    "det_eqns = LA.cvs_to_list()\n",
    "det_eqns = LA.simplify_redundant_eqn(det_eqns)\n",
    "LA.sym_det_eqn(det_eqns)"
   ]
  },
  {
   "cell_type": "code",
   "execution_count": null,
   "metadata": {},
   "outputs": [],
   "source": []
  }
 ],
 "metadata": {
  "kernelspec": {
   "name": "python3",
   "display_name": "Python 3.8.8 64-bit ('danit': virtualenv)"
  },
  "language_info": {
   "codemirror_mode": {
    "name": "ipython",
    "version": 3
   },
   "file_extension": ".py",
   "mimetype": "text/x-python",
   "name": "python",
   "nbconvert_exporter": "python",
   "pygments_lexer": "ipython3",
   "version": "3.8.8"
  },
  "interpreter": {
   "hash": "05b63289e74bde487029b66d05e41176b7d65a5ac482fc3771469e02a6aba717"
  }
 },
 "nbformat": 4,
 "nbformat_minor": 5
}