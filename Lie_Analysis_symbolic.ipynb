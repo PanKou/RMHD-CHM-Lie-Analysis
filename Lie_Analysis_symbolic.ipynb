{
 "cells": [
  {
   "cell_type": "code",
   "execution_count": 1,
   "id": "25293644",
   "metadata": {},
   "outputs": [],
   "source": [
    "from sympy import *\n",
    "import Lie_Analysis as LA\n",
    "from utils import DEint as de"
   ]
  },
  {
   "cell_type": "code",
   "execution_count": 2,
   "id": "90c88278",
   "metadata": {},
   "outputs": [],
   "source": [
    "det_eqns = LA.cvs_to_list()\n",
    "det_eqns = LA.simplify_redundant_eqn(det_eqns)"
   ]
  },
  {
   "cell_type": "code",
   "execution_count": 3,
   "id": "6e17f549",
   "metadata": {},
   "outputs": [
    {
     "data": {
      "text/latex": [
       "$\\displaystyle \\left[\\begin{matrix}1 & \\eta^{(2)}_{y} - \\xi^{(1)}_{z} = 0\\\\2 & \\eta^{(2)}_{y y z} = 0\\\\3 & - \\alpha_{0} \\eta^{(2)}_{y} + \\alpha_{0} \\xi^{(1)}_{z} = 0\\\\4 & \\eta^{(2)}_{y} - \\xi^{(1)}_{z} = 0\\\\5 & - \\alpha_{0} \\eta^{(3)}_{z} + \\eta^{(1)}_{z} + \\eta^{(2)}_{\\tau} = 0\\\\6 & \\xi^{(1)}_{\\tau} = 0\\\\7 & \\xi^{(2)}_{\\tau} = 0\\\\8 & \\xi^{(3)}_{\\tau} = 0\\\\9 & \\eta^{(2)}_{y} - \\xi^{(1)}_{z} = 0\\\\10 & \\eta^{(3)}_{t} = 0\\\\11 & \\eta^{(1)}_{\\chi} = 0\\\\12 & \\eta^{(2)}_{\\chi} = 0\\\\13 & \\xi^{(1)}_{\\chi} = 0\\\\14 & \\xi^{(2)}_{\\chi} = 0\\\\15 & \\xi^{(3)}_{\\chi} = 0\\\\16 & \\xi^{(4)}_{\\chi} = 0\\\\17 & \\xi^{(5)}_{\\chi} = 0\\\\18 & \\xi^{(1)}_{\\psi} = 0\\\\19 & \\xi^{(2)}_{\\psi} = 0\\\\20 & \\xi^{(3)}_{\\psi} = 0\\\\21 & \\xi^{(4)}_{\\psi} = 0\\\\22 & \\xi^{(5)}_{\\psi} = 0\\\\23 & \\xi^{(1)}_{\\phi} = 0\\\\24 & \\xi^{(2)}_{\\phi} = 0\\\\25 & \\xi^{(3)}_{\\phi} = 0\\\\26 & \\xi^{(4)}_{\\phi} = 0\\\\27 & \\xi^{(5)}_{\\phi} = 0\\\\28 & \\xi^{(5)}_{t} = 0\\\\29 & \\eta^{(1)}_{\\phi \\psi} = 0\\\\30 & \\xi^{(4)}_{z} = 0\\\\31 & \\xi^{(5)}_{z} = 0\\\\32 & \\eta^{(2)}_{\\phi \\psi} = 0\\\\33 & \\xi^{(3)}_{y} = 0\\\\34 & \\xi^{(4)}_{y} = 0\\\\35 & \\xi^{(5)}_{y} = 0\\\\36 & \\xi^{(2)}_{y t} = 0\\\\37 & \\eta^{(1)}_{x} = 0\\\\38 & \\xi^{(1)}_{x} = 0\\\\39 & \\xi^{(3)}_{x} = 0\\\\40 & \\xi^{(4)}_{x} = 0\\\\41 & \\xi^{(5)}_{x} = 0\\\\42 & \\xi^{(1)}_{y t} = 0\\\\43 & \\xi^{(2)}_{x z} = 0\\\\44 & \\xi^{(4)}_{t} = 0\\\\45 & \\xi^{(3)}_{z} = 0\\\\46 & \\eta^{(1)}_{y y y} = 0\\\\47 & \\eta^{(2)}_{x} = 0\\\\48 & \\xi^{(4)}_{\\tau} = 0\\\\49 & \\xi^{(5)}_{\\tau} = 0\\\\50 & \\eta^{(3)}_{\\phi} = 0\\\\51 & \\eta^{(3)}_{\\chi} = 0\\\\52 & \\eta^{(3)}_{x} = 0\\\\53 & \\eta^{(1)}_{y} = 0\\\\54 & \\eta^{(3)}_{y} = 0\\\\55 & \\eta^{(3)}_{\\psi} = 0\\\\56 & \\xi^{(3)}_{t} = 0\\\\57 & \\eta^{(2)}_{y y y} = 0\\end{matrix}\\right]$"
      ],
      "text/plain": [
       "Matrix([\n",
       "[ 1,                         Eq(eta^(2)_y - xi^(1)_z, 0)],\n",
       "[ 2,                                Eq(eta^(2)_y_y_z, 0)],\n",
       "[ 3,        Eq(-alpha_0*eta^(2)_y + alpha_0*xi^(1)_z, 0)],\n",
       "[ 4,                         Eq(eta^(2)_y - xi^(1)_z, 0)],\n",
       "[ 5, Eq(-alpha_0*eta^(3)_z + eta^(1)_z + eta^(2)_tau, 0)],\n",
       "[ 6,                                   Eq(xi^(1)_tau, 0)],\n",
       "[ 7,                                   Eq(xi^(2)_tau, 0)],\n",
       "[ 8,                                   Eq(xi^(3)_tau, 0)],\n",
       "[ 9,                         Eq(eta^(2)_y - xi^(1)_z, 0)],\n",
       "[10,                                    Eq(eta^(3)_t, 0)],\n",
       "[11,                                  Eq(eta^(1)_chi, 0)],\n",
       "[12,                                  Eq(eta^(2)_chi, 0)],\n",
       "[13,                                   Eq(xi^(1)_chi, 0)],\n",
       "[14,                                   Eq(xi^(2)_chi, 0)],\n",
       "[15,                                   Eq(xi^(3)_chi, 0)],\n",
       "[16,                                   Eq(xi^(4)_chi, 0)],\n",
       "[17,                                   Eq(xi^(5)_chi, 0)],\n",
       "[18,                                   Eq(xi^(1)_psi, 0)],\n",
       "[19,                                   Eq(xi^(2)_psi, 0)],\n",
       "[20,                                   Eq(xi^(3)_psi, 0)],\n",
       "[21,                                   Eq(xi^(4)_psi, 0)],\n",
       "[22,                                   Eq(xi^(5)_psi, 0)],\n",
       "[23,                                   Eq(xi^(1)_phi, 0)],\n",
       "[24,                                   Eq(xi^(2)_phi, 0)],\n",
       "[25,                                   Eq(xi^(3)_phi, 0)],\n",
       "[26,                                   Eq(xi^(4)_phi, 0)],\n",
       "[27,                                   Eq(xi^(5)_phi, 0)],\n",
       "[28,                                     Eq(xi^(5)_t, 0)],\n",
       "[29,                              Eq(eta^(1)_phi_psi, 0)],\n",
       "[30,                                     Eq(xi^(4)_z, 0)],\n",
       "[31,                                     Eq(xi^(5)_z, 0)],\n",
       "[32,                              Eq(eta^(2)_phi_psi, 0)],\n",
       "[33,                                     Eq(xi^(3)_y, 0)],\n",
       "[34,                                     Eq(xi^(4)_y, 0)],\n",
       "[35,                                     Eq(xi^(5)_y, 0)],\n",
       "[36,                                   Eq(xi^(2)_y_t, 0)],\n",
       "[37,                                    Eq(eta^(1)_x, 0)],\n",
       "[38,                                     Eq(xi^(1)_x, 0)],\n",
       "[39,                                     Eq(xi^(3)_x, 0)],\n",
       "[40,                                     Eq(xi^(4)_x, 0)],\n",
       "[41,                                     Eq(xi^(5)_x, 0)],\n",
       "[42,                                   Eq(xi^(1)_y_t, 0)],\n",
       "[43,                                   Eq(xi^(2)_x_z, 0)],\n",
       "[44,                                     Eq(xi^(4)_t, 0)],\n",
       "[45,                                     Eq(xi^(3)_z, 0)],\n",
       "[46,                                Eq(eta^(1)_y_y_y, 0)],\n",
       "[47,                                    Eq(eta^(2)_x, 0)],\n",
       "[48,                                   Eq(xi^(4)_tau, 0)],\n",
       "[49,                                   Eq(xi^(5)_tau, 0)],\n",
       "[50,                                  Eq(eta^(3)_phi, 0)],\n",
       "[51,                                  Eq(eta^(3)_chi, 0)],\n",
       "[52,                                    Eq(eta^(3)_x, 0)],\n",
       "[53,                                    Eq(eta^(1)_y, 0)],\n",
       "[54,                                    Eq(eta^(3)_y, 0)],\n",
       "[55,                                  Eq(eta^(3)_psi, 0)],\n",
       "[56,                                     Eq(xi^(3)_t, 0)],\n",
       "[57,                                Eq(eta^(2)_y_y_y, 0)]])"
      ]
     },
     "execution_count": 3,
     "metadata": {},
     "output_type": "execute_result"
    }
   ],
   "source": [
    "LA.sym_det_eqn(det_eqns)"
   ]
  }
 ],
 "metadata": {
  "interpreter": {
   "hash": "05b63289e74bde487029b66d05e41176b7d65a5ac482fc3771469e02a6aba717"
  },
  "kernelspec": {
   "display_name": "Python 3",
   "language": "python",
   "name": "python3"
  },
  "language_info": {
   "codemirror_mode": {
    "name": "ipython",
    "version": 3
   },
   "file_extension": ".py",
   "mimetype": "text/x-python",
   "name": "python",
   "nbconvert_exporter": "python",
   "pygments_lexer": "ipython3",
   "version": "3.8.8"
  }
 },
 "nbformat": 4,
 "nbformat_minor": 5
}
