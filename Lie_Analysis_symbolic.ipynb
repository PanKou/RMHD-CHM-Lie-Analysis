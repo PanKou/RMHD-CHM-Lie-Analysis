{
 "cells": [
  {
   "cell_type": "code",
   "execution_count": 1,
   "id": "25293644",
   "metadata": {},
   "outputs": [],
   "source": [
    "from sympy import *\n",
    "import Lie_Analysis as LA\n",
    "from utils import DEint as de"
   ]
  },
  {
   "cell_type": "markdown",
   "id": "215d5b33",
   "metadata": {},
   "source": [
    "# RMHD CHM"
   ]
  },
  {
   "cell_type": "code",
   "execution_count": 16,
   "id": "90c88278",
   "metadata": {},
   "outputs": [
    {
     "data": {
      "text/latex": [
       "$\\displaystyle \\left[\\begin{matrix}1 & \\alpha_{0} \\eta^{(2)}_{y} - \\alpha_{0} \\xi^{(1)}_{z} = 0\\\\2 & \\eta^{(2)}_{y y z} = 0\\\\3 & - \\alpha_{0}^{2} \\eta^{(2)}_{y} + \\alpha_{0}^{2} \\xi^{(1)}_{z} = 0\\\\4 & \\alpha_{0} \\eta^{(2)}_{y} - \\alpha_{0} \\xi^{(1)}_{z} = 0\\\\5 & - \\alpha_{0}^{2} \\eta^{(3)}_{z} + \\alpha_{0} \\eta^{(1)}_{z} + \\alpha_{0} \\eta^{(2)}_{\\tau} = 0\\\\6 & \\xi^{(1)}_{\\tau} = 0\\\\7 & \\xi^{(2)}_{\\tau} = 0\\\\8 & \\xi^{(3)}_{\\tau} = 0\\\\9 & \\alpha_{0} \\eta^{(2)}_{y} - \\alpha_{0} \\xi^{(1)}_{z} = 0\\\\10 & \\eta^{(3)}_{t} = 0\\\\11 & \\eta^{(1)}_{\\chi} = 0\\\\12 & \\eta^{(2)}_{\\chi} = 0\\\\13 & \\xi^{(1)}_{\\chi} = 0\\\\14 & \\xi^{(2)}_{\\chi} = 0\\\\15 & \\xi^{(3)}_{\\chi} = 0\\\\16 & \\xi^{(4)}_{\\chi} = 0\\\\17 & \\xi^{(5)}_{\\chi} = 0\\\\18 & \\xi^{(1)}_{\\psi} = 0\\\\19 & \\xi^{(2)}_{\\psi} = 0\\\\20 & \\xi^{(3)}_{\\psi} = 0\\\\21 & \\xi^{(4)}_{\\psi} = 0\\\\22 & \\xi^{(5)}_{\\psi} = 0\\\\23 & \\xi^{(1)}_{\\phi} = 0\\\\24 & \\xi^{(2)}_{\\phi} = 0\\\\25 & \\xi^{(3)}_{\\phi} = 0\\\\26 & \\xi^{(4)}_{\\phi} = 0\\\\27 & \\xi^{(5)}_{\\phi} = 0\\\\28 & \\xi^{(5)}_{t} = 0\\\\29 & \\eta^{(1)}_{\\phi \\psi} = 0\\\\30 & \\eta^{(2)}_{\\phi \\phi} = 0\\\\31 & \\xi^{(4)}_{z} = 0\\\\32 & \\xi^{(5)}_{z} = 0\\\\33 & \\eta^{(2)}_{\\phi \\psi} = 0\\\\34 & \\xi^{(3)}_{y} = 0\\\\35 & \\xi^{(4)}_{y} = 0\\\\36 & \\xi^{(5)}_{y} = 0\\\\37 & \\xi^{(2)}_{y t} = 0\\\\38 & \\eta^{(1)}_{x} = 0\\\\39 & \\xi^{(1)}_{x} = 0\\\\40 & \\xi^{(4)}_{t} = 0\\\\41 & \\xi^{(3)}_{z} = 0\\\\42 & \\xi^{(3)}_{x} = 0\\\\43 & \\xi^{(4)}_{x} = 0\\\\44 & \\xi^{(5)}_{x} = 0\\\\45 & \\xi^{(1)}_{y t} = 0\\\\46 & \\xi^{(2)}_{x z} = 0\\\\47 & \\eta^{(1)}_{y y y} = 0\\\\48 & \\eta^{(3)}_{\\chi} = 0\\\\49 & \\eta^{(2)}_{x} = 0\\\\50 & \\eta^{(3)}_{\\phi} = 0\\\\51 & \\xi^{(4)}_{\\tau} = 0\\\\52 & \\xi^{(5)}_{\\tau} = 0\\\\53 & \\eta^{(3)}_{x} = 0\\\\54 & \\eta^{(1)}_{y} = 0\\\\55 & \\eta^{(3)}_{y} = 0\\\\56 & \\xi^{(3)}_{t} = 0\\\\57 & \\eta^{(3)}_{\\psi} = 0\\\\58 & \\eta^{(2)}_{y y y} = 0\\end{matrix}\\right]$"
      ],
      "text/plain": [
       "Matrix([\n",
       "[ 1,                            Eq(alpha_0*eta^(2)_y - alpha_0*xi^(1)_z, 0)],\n",
       "[ 2,                                                   Eq(eta^(2)_y_y_z, 0)],\n",
       "[ 3,                     Eq(-alpha_0**2*eta^(2)_y + alpha_0**2*xi^(1)_z, 0)],\n",
       "[ 4,                            Eq(alpha_0*eta^(2)_y - alpha_0*xi^(1)_z, 0)],\n",
       "[ 5, Eq(-alpha_0**2*eta^(3)_z + alpha_0*eta^(1)_z + alpha_0*eta^(2)_tau, 0)],\n",
       "[ 6,                                                      Eq(xi^(1)_tau, 0)],\n",
       "[ 7,                                                      Eq(xi^(2)_tau, 0)],\n",
       "[ 8,                                                      Eq(xi^(3)_tau, 0)],\n",
       "[ 9,                            Eq(alpha_0*eta^(2)_y - alpha_0*xi^(1)_z, 0)],\n",
       "[10,                                                       Eq(eta^(3)_t, 0)],\n",
       "[11,                                                     Eq(eta^(1)_chi, 0)],\n",
       "[12,                                                     Eq(eta^(2)_chi, 0)],\n",
       "[13,                                                      Eq(xi^(1)_chi, 0)],\n",
       "[14,                                                      Eq(xi^(2)_chi, 0)],\n",
       "[15,                                                      Eq(xi^(3)_chi, 0)],\n",
       "[16,                                                      Eq(xi^(4)_chi, 0)],\n",
       "[17,                                                      Eq(xi^(5)_chi, 0)],\n",
       "[18,                                                      Eq(xi^(1)_psi, 0)],\n",
       "[19,                                                      Eq(xi^(2)_psi, 0)],\n",
       "[20,                                                      Eq(xi^(3)_psi, 0)],\n",
       "[21,                                                      Eq(xi^(4)_psi, 0)],\n",
       "[22,                                                      Eq(xi^(5)_psi, 0)],\n",
       "[23,                                                      Eq(xi^(1)_phi, 0)],\n",
       "[24,                                                      Eq(xi^(2)_phi, 0)],\n",
       "[25,                                                      Eq(xi^(3)_phi, 0)],\n",
       "[26,                                                      Eq(xi^(4)_phi, 0)],\n",
       "[27,                                                      Eq(xi^(5)_phi, 0)],\n",
       "[28,                                                        Eq(xi^(5)_t, 0)],\n",
       "[29,                                                 Eq(eta^(1)_phi_psi, 0)],\n",
       "[30,                                                 Eq(eta^(2)_phi_phi, 0)],\n",
       "[31,                                                        Eq(xi^(4)_z, 0)],\n",
       "[32,                                                        Eq(xi^(5)_z, 0)],\n",
       "[33,                                                 Eq(eta^(2)_phi_psi, 0)],\n",
       "[34,                                                        Eq(xi^(3)_y, 0)],\n",
       "[35,                                                        Eq(xi^(4)_y, 0)],\n",
       "[36,                                                        Eq(xi^(5)_y, 0)],\n",
       "[37,                                                      Eq(xi^(2)_y_t, 0)],\n",
       "[38,                                                       Eq(eta^(1)_x, 0)],\n",
       "[39,                                                        Eq(xi^(1)_x, 0)],\n",
       "[40,                                                        Eq(xi^(4)_t, 0)],\n",
       "[41,                                                        Eq(xi^(3)_z, 0)],\n",
       "[42,                                                        Eq(xi^(3)_x, 0)],\n",
       "[43,                                                        Eq(xi^(4)_x, 0)],\n",
       "[44,                                                        Eq(xi^(5)_x, 0)],\n",
       "[45,                                                      Eq(xi^(1)_y_t, 0)],\n",
       "[46,                                                      Eq(xi^(2)_x_z, 0)],\n",
       "[47,                                                   Eq(eta^(1)_y_y_y, 0)],\n",
       "[48,                                                     Eq(eta^(3)_chi, 0)],\n",
       "[49,                                                       Eq(eta^(2)_x, 0)],\n",
       "[50,                                                     Eq(eta^(3)_phi, 0)],\n",
       "[51,                                                      Eq(xi^(4)_tau, 0)],\n",
       "[52,                                                      Eq(xi^(5)_tau, 0)],\n",
       "[53,                                                       Eq(eta^(3)_x, 0)],\n",
       "[54,                                                       Eq(eta^(1)_y, 0)],\n",
       "[55,                                                       Eq(eta^(3)_y, 0)],\n",
       "[56,                                                        Eq(xi^(3)_t, 0)],\n",
       "[57,                                                     Eq(eta^(3)_psi, 0)],\n",
       "[58,                                                   Eq(eta^(2)_y_y_y, 0)]])"
      ]
     },
     "execution_count": 16,
     "metadata": {},
     "output_type": "execute_result"
    }
   ],
   "source": [
    "var_list = ['x', 'y', 'z', 't', 'tau', 'phi', 'psi', 'chi']\n",
    "RMHD_CHM_DE_path = \"./det_eqn/RMHD_Eqn.csv\"\n",
    "LA.Symmetry_Analysis(RMHD_CHM_DE_path, 5, 3, var_list)"
   ]
  },
  {
   "cell_type": "markdown",
   "id": "e703a39b",
   "metadata": {},
   "source": [
    "# Blasius Eqn"
   ]
  },
  {
   "cell_type": "code",
   "execution_count": 3,
   "id": "028e6311",
   "metadata": {},
   "outputs": [
    {
     "data": {
      "text/latex": [
       "$\\displaystyle \\left[\\begin{matrix}1 & \\xi^{(1)}_{y} = 0\\\\2 & \\xi^{(1)}_{y y} = 0\\\\3 & \\xi^{(1)}_{y y y} = 0\\\\4 & 3 \\eta^{(1)}_{y y} - 9 \\xi^{(1)}_{x y} + \\xi^{(1)}_{y} y_{1} = 0\\\\5 & \\eta^{(1)}_{y y y} - 3 \\xi^{(1)}_{x y y} - \\xi^{(1)}_{y y} y_{1} = 0\\\\6 & \\eta^{(1)} + 3 \\eta^{(1)}_{x y} + \\xi^{(1)}_{x} y_{1} - 3 \\xi^{(1)}_{x x} = 0\\\\7 & 3 \\eta^{(1)}_{x y y} + \\eta^{(1)}_{y y} y_{1} - 3 \\xi^{(1)}_{x x y} - 2 \\xi^{(1)}_{x y} y_{1} = 0\\\\8 & \\eta^{(1)}_{x x} y_{1} + \\eta^{(1)}_{x x x} = 0\\\\9 & 3 \\eta^{(1)}_{x x y} + 2 \\eta^{(1)}_{x y} y_{1} - \\xi^{(1)}_{x x} y_{1} - \\xi^{(1)}_{x x x} = 0\\end{matrix}\\right]$"
      ],
      "text/plain": [
       "Matrix([\n",
       "[1,                                                            Eq(xi^(1)_y, 0)],\n",
       "[2,                                                          Eq(xi^(1)_y_y, 0)],\n",
       "[3,                                                        Eq(xi^(1)_y_y_y, 0)],\n",
       "[4,                          Eq(3*eta^(1)_y_y - 9*xi^(1)_x_y + xi^(1)_y*y1, 0)],\n",
       "[5,                      Eq(eta^(1)_y_y_y - 3*xi^(1)_x_y_y - xi^(1)_y_y*y1, 0)],\n",
       "[6,                Eq(eta^(1) + 3*eta^(1)_x_y + xi^(1)_x*y1 - 3*xi^(1)_x_x, 0)],\n",
       "[7, Eq(3*eta^(1)_x_y_y + eta^(1)_y_y*y1 - 3*xi^(1)_x_x_y - 2*xi^(1)_x_y*y1, 0)],\n",
       "[8,                                      Eq(eta^(1)_x_x*y1 + eta^(1)_x_x_x, 0)],\n",
       "[9,   Eq(3*eta^(1)_x_x_y + 2*eta^(1)_x_y*y1 - xi^(1)_x_x*y1 - xi^(1)_x_x_x, 0)]])"
      ]
     },
     "execution_count": 3,
     "metadata": {},
     "output_type": "execute_result"
    }
   ],
   "source": [
    "var_list = ['x', 'y']\n",
    "Blasius_cvs_path = \"./det_eqn/Blasius_Eqn.csv\"\n",
    "LA.Symmetry_Analysis(Blasius_cvs_path, 1, 1, var_list, simplify=False)"
   ]
  },
  {
   "cell_type": "code",
   "execution_count": 4,
   "id": "0461c5cf",
   "metadata": {},
   "outputs": [
    {
     "data": {
      "text/latex": [
       "$\\displaystyle \\left[\\begin{matrix}1 & \\eta^{(1)} + 3 \\eta^{(1)}_{x y} + \\xi^{(1)}_{x} y_{1} - 3 \\xi^{(1)}_{x x} = 0\\\\2 & \\eta^{(1)}_{x x} y_{1} + \\eta^{(1)}_{x x x} = 0\\\\3 & 3 \\eta^{(1)}_{x x y} + 2 \\eta^{(1)}_{x y} y_{1} - \\xi^{(1)}_{x x} y_{1} - \\xi^{(1)}_{x x x} = 0\\\\4 & \\xi^{(1)}_{y} = 0\\\\5 & \\eta^{(1)}_{y y} = 0\\end{matrix}\\right]$"
      ],
      "text/plain": [
       "Matrix([\n",
       "[1,              Eq(eta^(1) + 3*eta^(1)_x_y + xi^(1)_x*y1 - 3*xi^(1)_x_x, 0)],\n",
       "[2,                                    Eq(eta^(1)_x_x*y1 + eta^(1)_x_x_x, 0)],\n",
       "[3, Eq(3*eta^(1)_x_x_y + 2*eta^(1)_x_y*y1 - xi^(1)_x_x*y1 - xi^(1)_x_x_x, 0)],\n",
       "[4,                                                          Eq(xi^(1)_y, 0)],\n",
       "[5,                                                       Eq(eta^(1)_y_y, 0)]])"
      ]
     },
     "execution_count": 4,
     "metadata": {},
     "output_type": "execute_result"
    }
   ],
   "source": [
    "LA.Symmetry_Analysis(Blasius_cvs_path, 1, 1, var_list)"
   ]
  },
  {
   "cell_type": "markdown",
   "id": "61517cf4",
   "metadata": {},
   "source": [
    "# CHM Eqn"
   ]
  },
  {
   "cell_type": "code",
   "execution_count": 5,
   "id": "dba3ab95",
   "metadata": {},
   "outputs": [
    {
     "data": {
      "text/latex": [
       "$\\displaystyle \\left[\\begin{matrix}1 & - \\eta^{(1)}_{y} - \\xi^{(1)}_{t} = 0\\\\2 & \\eta^{(1)}_{t \\phi} - 2 \\xi^{(2)}_{y t} = 0\\\\3 & \\eta^{(1)}_{x} - \\xi^{(2)}_{t} = 0\\\\4 & \\eta^{(1)}_{\\phi} - \\xi^{(1)}_{x} - \\xi^{(2)}_{y} + \\xi^{(4)}_{t} = 0\\\\5 & - \\eta^{(1)}_{\\phi} - \\xi^{(1)}_{x} + 3 \\xi^{(2)}_{y} - \\xi^{(4)}_{t} = 0\\\\6 & \\eta^{(1)}_{\\phi} + \\xi^{(1)}_{x} - 3 \\xi^{(2)}_{y} + \\xi^{(4)}_{t} = 0\\\\7 & - \\eta^{(1)}_{\\phi} + \\xi^{(1)}_{x} + \\xi^{(2)}_{y} - \\xi^{(4)}_{t} = 0\\\\8 & 2 \\xi^{(1)}_{x} - 2 \\xi^{(2)}_{y} = 0\\\\9 & - 2 \\xi^{(1)}_{y} - 2 \\xi^{(2)}_{x} = 0\\\\10 & 2 \\xi^{(1)}_{y} + 2 \\xi^{(2)}_{x} = 0\\\\11 & \\eta^{(1)}_{t \\phi} - 2 \\xi^{(1)}_{x t} = 0\\\\12 & - 2 \\xi^{(1)}_{y t} - 2 \\xi^{(2)}_{x t} = 0\\\\13 & \\eta^{(1)}_{y \\phi} - 2 \\xi^{(1)}_{x y} = 0\\\\14 & - \\eta^{(1)}_{x \\phi} + 2 \\xi^{(2)}_{x y} = 0\\\\15 & 2 \\eta^{(1)}_{x \\phi} - \\xi^{(1)}_{x x} - \\xi^{(1)}_{y y} = 0\\\\16 & 2 \\eta^{(1)}_{x \\phi} - \\xi^{(1)}_{x x} - 3 \\xi^{(1)}_{y y} - 2 \\xi^{(2)}_{x y} = 0\\\\17 & - 3 \\eta^{(1)}_{x \\phi} + 3 \\xi^{(1)}_{x x} + \\xi^{(1)}_{y y} = 0\\\\18 & 3 \\eta^{(1)}_{y \\phi} - \\xi^{(2)}_{x x} - 3 \\xi^{(2)}_{y y} = 0\\\\19 & 2 \\eta^{(1)}_{y \\phi} - \\xi^{(2)}_{x x} - \\xi^{(2)}_{y y} = 0\\\\20 & - 2 \\eta^{(1)}_{y \\phi} + 2 \\xi^{(1)}_{x y} + 3 \\xi^{(2)}_{x x} + \\xi^{(2)}_{y y} = 0\\\\21 & - \\eta^{(1)}_{t} + \\eta^{(1)}_{x x t} + \\eta^{(1)}_{y y t} = 0\\\\22 & \\eta^{(1)}_{x x \\phi} + \\eta^{(1)}_{y y \\phi} - 2 \\xi^{(1)}_{x} = 0\\\\23 & 2 \\eta^{(1)}_{x t \\phi} + \\eta^{(1)}_{x x y} + \\eta^{(1)}_{y y y} + \\xi^{(1)}_{t} - \\xi^{(1)}_{x x t} - \\xi^{(1)}_{y y t} = 0\\\\24 & 2 \\eta^{(1)}_{x y \\phi} - \\xi^{(1)}_{x x y} - \\xi^{(1)}_{y y y} = 0\\\\25 & - \\eta^{(1)}_{x x x} - \\eta^{(1)}_{x y y} + 2 \\eta^{(1)}_{y t \\phi} + \\xi^{(2)}_{t} - \\xi^{(2)}_{x x t} - \\xi^{(2)}_{y y t} = 0\\\\26 & - 2 \\eta^{(1)}_{x x \\phi} + 2 \\eta^{(1)}_{y y \\phi} + \\xi^{(1)}_{x x x} + \\xi^{(1)}_{x y y} - \\xi^{(2)}_{x x y} - \\xi^{(2)}_{y y y} = 0\\\\27 & - 2 \\eta^{(1)}_{x y \\phi} + \\xi^{(2)}_{x x x} + \\xi^{(2)}_{x y y} = 0\\\\28 & \\xi^{(1)}_{\\phi} = 0\\\\29 & \\xi^{(2)}_{\\phi} = 0\\\\30 & \\xi^{(3)}_{\\phi} = 0\\\\31 & \\xi^{(4)}_{\\phi} = 0\\\\32 & \\xi^{(3)}_{t} = 0\\\\33 & \\xi^{(3)}_{y} = 0\\\\34 & \\xi^{(4)}_{y} = 0\\\\35 & \\eta^{(1)}_{\\phi \\phi} = 0\\\\36 & \\xi^{(3)}_{x} = 0\\\\37 & \\xi^{(4)}_{x} = 0\\end{matrix}\\right]$"
      ],
      "text/plain": [
       "Matrix([\n",
       "[ 1,                                                                              Eq(-eta^(1)_y - xi^(1)_t, 0)],\n",
       "[ 2,                                                                       Eq(eta^(1)_t_phi - 2*xi^(2)_y_t, 0)],\n",
       "[ 3,                                                                               Eq(eta^(1)_x - xi^(2)_t, 0)],\n",
       "[ 4,                                                       Eq(eta^(1)_phi - xi^(1)_x - xi^(2)_y + xi^(4)_t, 0)],\n",
       "[ 5,                                                    Eq(-eta^(1)_phi - xi^(1)_x + 3*xi^(2)_y - xi^(4)_t, 0)],\n",
       "[ 6,                                                     Eq(eta^(1)_phi + xi^(1)_x - 3*xi^(2)_y + xi^(4)_t, 0)],\n",
       "[ 7,                                                      Eq(-eta^(1)_phi + xi^(1)_x + xi^(2)_y - xi^(4)_t, 0)],\n",
       "[ 8,                                                                            Eq(2*xi^(1)_x - 2*xi^(2)_y, 0)],\n",
       "[ 9,                                                                           Eq(-2*xi^(1)_y - 2*xi^(2)_x, 0)],\n",
       "[10,                                                                            Eq(2*xi^(1)_y + 2*xi^(2)_x, 0)],\n",
       "[11,                                                                       Eq(eta^(1)_t_phi - 2*xi^(1)_x_t, 0)],\n",
       "[12,                                                                       Eq(-2*xi^(1)_y_t - 2*xi^(2)_x_t, 0)],\n",
       "[13,                                                                       Eq(eta^(1)_y_phi - 2*xi^(1)_x_y, 0)],\n",
       "[14,                                                                      Eq(-eta^(1)_x_phi + 2*xi^(2)_x_y, 0)],\n",
       "[15,                                                          Eq(2*eta^(1)_x_phi - xi^(1)_x_x - xi^(1)_y_y, 0)],\n",
       "[16,                                         Eq(2*eta^(1)_x_phi - xi^(1)_x_x - 3*xi^(1)_y_y - 2*xi^(2)_x_y, 0)],\n",
       "[17,                                                       Eq(-3*eta^(1)_x_phi + 3*xi^(1)_x_x + xi^(1)_y_y, 0)],\n",
       "[18,                                                        Eq(3*eta^(1)_y_phi - xi^(2)_x_x - 3*xi^(2)_y_y, 0)],\n",
       "[19,                                                          Eq(2*eta^(1)_y_phi - xi^(2)_x_x - xi^(2)_y_y, 0)],\n",
       "[20,                                        Eq(-2*eta^(1)_y_phi + 2*xi^(1)_x_y + 3*xi^(2)_x_x + xi^(2)_y_y, 0)],\n",
       "[21,                                                         Eq(-eta^(1)_t + eta^(1)_x_x_t + eta^(1)_y_y_t, 0)],\n",
       "[22,                                                     Eq(eta^(1)_x_x_phi + eta^(1)_y_y_phi - 2*xi^(1)_x, 0)],\n",
       "[23,         Eq(2*eta^(1)_x_t_phi + eta^(1)_x_x_y + eta^(1)_y_y_y + xi^(1)_t - xi^(1)_x_x_t - xi^(1)_y_y_t, 0)],\n",
       "[24,                                                    Eq(2*eta^(1)_x_y_phi - xi^(1)_x_x_y - xi^(1)_y_y_y, 0)],\n",
       "[25,        Eq(-eta^(1)_x_x_x - eta^(1)_x_y_y + 2*eta^(1)_y_t_phi + xi^(2)_t - xi^(2)_x_x_t - xi^(2)_y_y_t, 0)],\n",
       "[26, Eq(-2*eta^(1)_x_x_phi + 2*eta^(1)_y_y_phi + xi^(1)_x_x_x + xi^(1)_x_y_y - xi^(2)_x_x_y - xi^(2)_y_y_y, 0)],\n",
       "[27,                                                   Eq(-2*eta^(1)_x_y_phi + xi^(2)_x_x_x + xi^(2)_x_y_y, 0)],\n",
       "[28,                                                                                         Eq(xi^(1)_phi, 0)],\n",
       "[29,                                                                                         Eq(xi^(2)_phi, 0)],\n",
       "[30,                                                                                         Eq(xi^(3)_phi, 0)],\n",
       "[31,                                                                                         Eq(xi^(4)_phi, 0)],\n",
       "[32,                                                                                           Eq(xi^(3)_t, 0)],\n",
       "[33,                                                                                           Eq(xi^(3)_y, 0)],\n",
       "[34,                                                                                           Eq(xi^(4)_y, 0)],\n",
       "[35,                                                                                    Eq(eta^(1)_phi_phi, 0)],\n",
       "[36,                                                                                           Eq(xi^(3)_x, 0)],\n",
       "[37,                                                                                           Eq(xi^(4)_x, 0)]])"
      ]
     },
     "execution_count": 5,
     "metadata": {},
     "output_type": "execute_result"
    }
   ],
   "source": [
    "var_list = ['x', 'y', 'z', 't', 'phi']\n",
    "Blasius_cvs_path = \"./det_eqn/CHM_Eqn.csv\"\n",
    "LA.Symmetry_Analysis(Blasius_cvs_path, 4, 1, var_list)"
   ]
  },
  {
   "cell_type": "markdown",
   "id": "be7a5c17",
   "metadata": {},
   "source": [
    "# Heat Eqn"
   ]
  },
  {
   "cell_type": "code",
   "execution_count": 6,
   "id": "f12f3ebb",
   "metadata": {},
   "outputs": [
    {
     "data": {
      "text/latex": [
       "$\\displaystyle \\left[\\begin{matrix}1 & \\xi^{(1)}_{u} = 0\\\\2 & \\xi^{(1)}_{u u} = 0\\\\3 & \\xi^{(2)}_{u u} = 0\\\\4 & \\xi^{(1)}_{x} = 0\\\\5 & - 2 \\alpha_{0} \\xi^{(1)}_{x u} - 2 \\xi^{(2)}_{u} = 0\\\\6 & \\alpha_{0} \\eta^{(1)}_{u u} - 2 \\alpha_{0} \\xi^{(2)}_{x u} = 0\\\\7 & \\alpha_{0} \\eta^{(1)}_{x x} - \\eta^{(1)}_{t} = 0\\\\8 & - \\alpha_{0} \\xi^{(1)}_{x x} + \\xi^{(1)}_{t} - 2 \\xi^{(2)}_{x} = 0\\\\9 & 2 \\alpha_{0} \\eta^{(1)}_{x u} - \\alpha_{0} \\xi^{(2)}_{x x} + \\xi^{(2)}_{t} = 0\\end{matrix}\\right]$"
      ],
      "text/plain": [
       "Matrix([\n",
       "[1,                                              Eq(xi^(1)_u, 0)],\n",
       "[2,                                            Eq(xi^(1)_u_u, 0)],\n",
       "[3,                                            Eq(xi^(2)_u_u, 0)],\n",
       "[4,                                              Eq(xi^(1)_x, 0)],\n",
       "[5,                    Eq(-2*alpha_0*xi^(1)_x_u - 2*xi^(2)_u, 0)],\n",
       "[6,            Eq(alpha_0*eta^(1)_u_u - 2*alpha_0*xi^(2)_x_u, 0)],\n",
       "[7,                       Eq(alpha_0*eta^(1)_x_x - eta^(1)_t, 0)],\n",
       "[8,           Eq(-alpha_0*xi^(1)_x_x + xi^(1)_t - 2*xi^(2)_x, 0)],\n",
       "[9, Eq(2*alpha_0*eta^(1)_x_u - alpha_0*xi^(2)_x_x + xi^(2)_t, 0)]])"
      ]
     },
     "execution_count": 6,
     "metadata": {},
     "output_type": "execute_result"
    }
   ],
   "source": [
    "var_list = ['t', 'x', 'u']\n",
    "Blasius_cvs_path = \"./det_eqn/Heat_Eqn.csv\"\n",
    "LA.Symmetry_Analysis(Blasius_cvs_path, 2, 1, var_list, False)"
   ]
  },
  {
   "cell_type": "code",
   "execution_count": 7,
   "id": "cda9c6c8",
   "metadata": {},
   "outputs": [
    {
     "data": {
      "text/latex": [
       "$\\displaystyle \\left[\\begin{matrix}1 & \\alpha_{0} \\eta^{(1)}_{x x} - \\eta^{(1)}_{t} = 0\\\\2 & \\xi^{(1)}_{t} - 2 \\xi^{(2)}_{x} = 0\\\\3 & 2 \\alpha_{0} \\eta^{(1)}_{x u} - \\alpha_{0} \\xi^{(2)}_{x x} + \\xi^{(2)}_{t} = 0\\\\4 & \\xi^{(1)}_{u} = 0\\\\5 & \\xi^{(2)}_{u u} = 0\\\\6 & \\xi^{(1)}_{x} = 0\\\\7 & \\xi^{(2)}_{u} = 0\\\\8 & \\eta^{(1)}_{u u} = 0\\end{matrix}\\right]$"
      ],
      "text/plain": [
       "Matrix([\n",
       "[1,                       Eq(alpha_0*eta^(1)_x_x - eta^(1)_t, 0)],\n",
       "[2,                                 Eq(xi^(1)_t - 2*xi^(2)_x, 0)],\n",
       "[3, Eq(2*alpha_0*eta^(1)_x_u - alpha_0*xi^(2)_x_x + xi^(2)_t, 0)],\n",
       "[4,                                              Eq(xi^(1)_u, 0)],\n",
       "[5,                                            Eq(xi^(2)_u_u, 0)],\n",
       "[6,                                              Eq(xi^(1)_x, 0)],\n",
       "[7,                                              Eq(xi^(2)_u, 0)],\n",
       "[8,                                           Eq(eta^(1)_u_u, 0)]])"
      ]
     },
     "execution_count": 7,
     "metadata": {},
     "output_type": "execute_result"
    }
   ],
   "source": [
    "var_list = ['t', 'x', 'u']\n",
    "Blasius_cvs_path = \"./det_eqn/Heat_Eqn.csv\"\n",
    "LA.Symmetry_Analysis(Blasius_cvs_path, 2, 1, var_list, True)"
   ]
  },
  {
   "cell_type": "markdown",
   "id": "3de09201",
   "metadata": {},
   "source": [
    "# KdV–Zakharov–Kuznetsov Eqn\n",
    "Sahoo, S., Garai, G., & Ray, S. S. (2017). Lie symmetry analysis for similarity reduction and exact solutions of modified KdV–Zakharov–Kuznetsov equation. Nonlinear Dynamics, 87(3), 1995-2000."
   ]
  },
  {
   "cell_type": "code",
   "execution_count": 12,
   "id": "f69729a6",
   "metadata": {},
   "outputs": [
    {
     "data": {
      "text/latex": [
       "$\\displaystyle \\left[\\begin{matrix}1 & - 2 \\xi^{(2)}_{z} - 2 \\xi^{(3)}_{y} = 0\\\\2 & 2 \\xi^{(1)}_{x} - 2 \\xi^{(3)}_{z} = 0\\\\3 & 2 \\xi^{(1)}_{x} - 2 \\xi^{(2)}_{y} = 0\\\\4 & \\xi^{(1)}_{y} = 0\\\\5 & \\xi^{(1)}_{z} = 0\\\\6 & \\xi^{(1)}_{x x} = 0\\\\7 & - \\xi^{(2)}_{y y} - \\xi^{(2)}_{z z} = 0\\\\8 & - \\xi^{(3)}_{y y} - \\xi^{(3)}_{z z} = 0\\\\9 & 2 \\alpha_{0} \\eta^{(1)} u_{4} + 2 \\alpha_{0} u_{4}^{2} \\xi^{(1)}_{x} - \\xi^{(1)}_{t} = 0\\\\10 & 3 \\xi^{(1)}_{x} - \\xi^{(4)}_{t} = 0\\\\11 & \\xi^{(1)}_{u} = 0\\\\12 & \\xi^{(2)}_{u} = 0\\\\13 & \\xi^{(3)}_{u} = 0\\\\14 & \\xi^{(4)}_{u} = 0\\\\15 & \\xi^{(4)}_{z} = 0\\\\16 & \\xi^{(4)}_{y} = 0\\\\17 & \\xi^{(2)}_{x} = 0\\\\18 & \\xi^{(3)}_{x} = 0\\\\19 & \\xi^{(4)}_{x} = 0\\\\20 & \\eta^{(1)}_{u u} = 0\\\\21 & \\eta^{(1)}_{x u} = 0\\\\22 & \\eta^{(1)}_{t} = 0\\\\23 & \\xi^{(2)}_{t} = 0\\\\24 & \\xi^{(3)}_{t} = 0\\end{matrix}\\right]$"
      ],
      "text/plain": [
       "Matrix([\n",
       "[ 1,                                   Eq(-2*xi^(2)_z - 2*xi^(3)_y, 0)],\n",
       "[ 2,                                    Eq(2*xi^(1)_x - 2*xi^(3)_z, 0)],\n",
       "[ 3,                                    Eq(2*xi^(1)_x - 2*xi^(2)_y, 0)],\n",
       "[ 4,                                                   Eq(xi^(1)_y, 0)],\n",
       "[ 5,                                                   Eq(xi^(1)_z, 0)],\n",
       "[ 6,                                                 Eq(xi^(1)_x_x, 0)],\n",
       "[ 7,                                   Eq(-xi^(2)_y_y - xi^(2)_z_z, 0)],\n",
       "[ 8,                                   Eq(-xi^(3)_y_y - xi^(3)_z_z, 0)],\n",
       "[ 9, Eq(2*alpha_0*eta^(1)*u4 + 2*alpha_0*u4**2*xi^(1)_x - xi^(1)_t, 0)],\n",
       "[10,                                      Eq(3*xi^(1)_x - xi^(4)_t, 0)],\n",
       "[11,                                                   Eq(xi^(1)_u, 0)],\n",
       "[12,                                                   Eq(xi^(2)_u, 0)],\n",
       "[13,                                                   Eq(xi^(3)_u, 0)],\n",
       "[14,                                                   Eq(xi^(4)_u, 0)],\n",
       "[15,                                                   Eq(xi^(4)_z, 0)],\n",
       "[16,                                                   Eq(xi^(4)_y, 0)],\n",
       "[17,                                                   Eq(xi^(2)_x, 0)],\n",
       "[18,                                                   Eq(xi^(3)_x, 0)],\n",
       "[19,                                                   Eq(xi^(4)_x, 0)],\n",
       "[20,                                                Eq(eta^(1)_u_u, 0)],\n",
       "[21,                                                Eq(eta^(1)_x_u, 0)],\n",
       "[22,                                                  Eq(eta^(1)_t, 0)],\n",
       "[23,                                                   Eq(xi^(2)_t, 0)],\n",
       "[24,                                                   Eq(xi^(3)_t, 0)]])"
      ]
     },
     "execution_count": 12,
     "metadata": {},
     "output_type": "execute_result"
    }
   ],
   "source": [
    "var_list = ['x', 'y', 'z', 't', 'u']\n",
    "Blasius_cvs_path = \"./det_eqn/KdV–Zakharov–Kuznetsov_Eqn.csv\"\n",
    "LA.Symmetry_Analysis(Blasius_cvs_path, 4, 1, var_list, True)"
   ]
  },
  {
   "cell_type": "markdown",
   "id": "92230318",
   "metadata": {},
   "source": [
    "# CQ - NLSE \n",
    "Bansal, A., Biswas, A., Zhou, Q., & Babatin, M. M. (2018). Lie symmetry analysis for cubic–quartic nonlinear Schrödinger's equation. Optik, 169, 12-15."
   ]
  },
  {
   "cell_type": "code",
   "execution_count": 14,
   "id": "cec796e1",
   "metadata": {},
   "outputs": [
    {
     "data": {
      "text/latex": [
       "$\\displaystyle \\left[\\begin{matrix}1 & \\xi^{(1)}_{x} = 0\\\\2 & \\alpha_{1} \\eta^{(1)}_{x x x} + 3 \\alpha_{2} \\eta^{(1)} u_{2}^{2} + \\alpha_{2} \\eta^{(1)} v_{3}^{2} + 2 \\alpha_{2} \\eta^{(2)} u_{2} v_{3} - \\eta^{(2)}_{t} = 0\\\\3 & \\alpha_{0} \\eta^{(1)}_{x x x} + 2 \\alpha_{2} \\eta^{(1)} u_{2} v_{3} + \\alpha_{2} \\eta^{(2)} u_{2}^{2} + 3 \\alpha_{2} \\eta^{(2)} v_{3}^{2} + \\eta^{(1)}_{t} = 0\\\\4 & \\xi^{(1)}_{v} = 0\\\\5 & \\xi^{(2)}_{v} = 0\\\\6 & \\xi^{(1)}_{u} = 0\\\\7 & \\xi^{(2)}_{u} = 0\\\\8 & \\xi^{(2)}_{x} = 0\\\\9 & \\eta^{(2)}_{u} = 0\\\\10 & \\eta^{(1)}_{u u} = 0\\\\11 & \\eta^{(1)}_{u v} = 0\\\\12 & \\xi^{(1)}_{x x} = 0\\\\13 & \\eta^{(2)}_{x v} = 0\\\\14 & \\xi^{(1)}_{t} = 0\\\\15 & \\xi^{(2)}_{t} = 0\\end{matrix}\\right]$"
      ],
      "text/plain": [
       "Matrix([\n",
       "[ 1,                                                                                                      Eq(xi^(1)_x, 0)],\n",
       "[ 2, Eq(alpha_1*eta^(1)_x_x_x + 3*alpha_2*eta^(1)*u2**2 + alpha_2*eta^(1)*v3**2 + 2*alpha_2*eta^(2)*u2*v3 - eta^(2)_t, 0)],\n",
       "[ 3, Eq(alpha_0*eta^(1)_x_x_x + 2*alpha_2*eta^(1)*u2*v3 + alpha_2*eta^(2)*u2**2 + 3*alpha_2*eta^(2)*v3**2 + eta^(1)_t, 0)],\n",
       "[ 4,                                                                                                      Eq(xi^(1)_v, 0)],\n",
       "[ 5,                                                                                                      Eq(xi^(2)_v, 0)],\n",
       "[ 6,                                                                                                      Eq(xi^(1)_u, 0)],\n",
       "[ 7,                                                                                                      Eq(xi^(2)_u, 0)],\n",
       "[ 8,                                                                                                      Eq(xi^(2)_x, 0)],\n",
       "[ 9,                                                                                                     Eq(eta^(2)_u, 0)],\n",
       "[10,                                                                                                   Eq(eta^(1)_u_u, 0)],\n",
       "[11,                                                                                                   Eq(eta^(1)_u_v, 0)],\n",
       "[12,                                                                                                    Eq(xi^(1)_x_x, 0)],\n",
       "[13,                                                                                                   Eq(eta^(2)_x_v, 0)],\n",
       "[14,                                                                                                      Eq(xi^(1)_t, 0)],\n",
       "[15,                                                                                                      Eq(xi^(2)_t, 0)]])"
      ]
     },
     "execution_count": 14,
     "metadata": {},
     "output_type": "execute_result"
    }
   ],
   "source": [
    "var_list = ['x', 't', 'u', 'v']\n",
    "NLSE_cvs_path = \"./det_eqn/QC-NLSE.csv\"\n",
    "LA.Symmetry_Analysis(NLSE_cvs_path, 2, 2, var_list, True)"
   ]
  },
  {
   "cell_type": "code",
   "execution_count": null,
   "id": "2334407e",
   "metadata": {},
   "outputs": [],
   "source": []
  }
 ],
 "metadata": {
  "interpreter": {
   "hash": "05b63289e74bde487029b66d05e41176b7d65a5ac482fc3771469e02a6aba717"
  },
  "kernelspec": {
   "display_name": "Python 3",
   "language": "python",
   "name": "python3"
  },
  "language_info": {
   "codemirror_mode": {
    "name": "ipython",
    "version": 3
   },
   "file_extension": ".py",
   "mimetype": "text/x-python",
   "name": "python",
   "nbconvert_exporter": "python",
   "pygments_lexer": "ipython3",
   "version": "3.8.8"
  }
 },
 "nbformat": 4,
 "nbformat_minor": 5
}
